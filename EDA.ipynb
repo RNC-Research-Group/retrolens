{
 "cells": [
  {
   "cell_type": "code",
   "execution_count": 1,
   "metadata": {},
   "outputs": [],
   "source": [
    "import geopandas as gpd # Geospatial data operations\n",
    "import rasterio as rio # Geospatial imagery manipulation\n",
    "import rasterio.plot\n",
    "import pandas as pd # Tabular data\n",
    "import os\n",
    "import re\n",
    "import rapidfuzz # Fuzzy string matching\n",
    "from tqdm.auto import tqdm # Progress bars\n",
    "import matplotlib # Plots\n",
    "import matplotlib.pyplot as plt\n",
    "import shapely # Polygon operations\n",
    "import solaris.tile as tile # Tile splitting\n",
    "import solaris.data.coco as coco\n",
    "import contextlib\n",
    "import io\n",
    "import rasterio\n",
    "from rasterio.vrt import WarpedVRT\n",
    "from rasterio import transform\n",
    "matplotlib.rcParams['figure.figsize'] = (20, 10)\n",
    "tqdm.pandas()\n",
    "pd.set_option('display.max_columns', None)\n",
    "pd.set_option('display.max_colwidth', 130)"
   ]
  },
  {
   "cell_type": "code",
   "execution_count": 2,
   "metadata": {},
   "outputs": [
    {
     "data": {
      "text/plain": [
       "0                                                                         MaxarImagery/\n",
       "1                                                              MaxarImagery/._.DS_Store\n",
       "2                                                                 MaxarImagery/HighFreq\n",
       "3                                                       MaxarImagery/HighFreq/HawkesBay\n",
       "4                                           MaxarImagery/HighFreq/HawkesBay/._.DS_Store\n",
       "                                              ...                                      \n",
       "141473            Retrolens/Wellington/PukeruaBay/Stack/PukeruaBay_01AUG1942_mosaic.jp2\n",
       "141474    Retrolens/Wellington/PukeruaBay/Stack/PukeruaBay_01AUG1942_mosaic.jp2.aux.xml\n",
       "141475    Retrolens/Wellington/PukeruaBay/Stack/PukeruaBay_22AUG1961_mosaic.tif.aux.xml\n",
       "141476    Retrolens/Wellington/PukeruaBay/Stack/PukeruaBay_20SEP1980_mosaic.jp2.aux.xml\n",
       "141477        Retrolens/Wellington/PukeruaBay/Stack/PukeruaBay_04APR1986_mosaic.jp2.ovr\n",
       "Name: 0, Length: 141478, dtype: object"
      ]
     },
     "execution_count": 2,
     "metadata": {},
     "output_type": "execute_result"
    }
   ],
   "source": [
    "# A complete filelist of the MaxarImagery & Retrolens folders, generated with the unix command:\n",
    "# find MaxarImagery/ Retrolens/ > ressci201900060-RNC2-Coastal_MaxarImagery_Retrolens_filelist.txt\n",
    "filelist = pd.read_csv(\"ressci201900060-RNC2-Coastal_MaxarImagery_Retrolens_filelist.txt\", header=None).iloc[:,0]\n",
    "filelist"
   ]
  },
  {
   "cell_type": "code",
   "execution_count": 3,
   "metadata": {},
   "outputs": [
    {
     "data": {
      "text/html": [
       "<div>\n",
       "<style scoped>\n",
       "    .dataframe tbody tr th:only-of-type {\n",
       "        vertical-align: middle;\n",
       "    }\n",
       "\n",
       "    .dataframe tbody tr th {\n",
       "        vertical-align: top;\n",
       "    }\n",
       "\n",
       "    .dataframe thead th {\n",
       "        text-align: right;\n",
       "    }\n",
       "</style>\n",
       "<table border=\"1\" class=\"dataframe\">\n",
       "  <thead>\n",
       "    <tr style=\"text-align: right;\">\n",
       "      <th></th>\n",
       "      <th>filename</th>\n",
       "    </tr>\n",
       "  </thead>\n",
       "  <tbody>\n",
       "    <tr>\n",
       "      <th>1344</th>\n",
       "      <td>MaxarImagery/HighFreq/Nelson/Nelson/Shorelines/Nelson_13DEC2013.shp</td>\n",
       "    </tr>\n",
       "    <tr>\n",
       "      <th>1368</th>\n",
       "      <td>MaxarImagery/HighFreq/Nelson/Nelson/Shorelines/Nelson_22NOV2017.shp</td>\n",
       "    </tr>\n",
       "    <tr>\n",
       "      <th>1371</th>\n",
       "      <td>MaxarImagery/HighFreq/Nelson/Nelson/Shorelines/Nelson_14DEC2006.shp</td>\n",
       "    </tr>\n",
       "    <tr>\n",
       "      <th>1375</th>\n",
       "      <td>MaxarImagery/HighFreq/Nelson/Nelson/Shorelines/Nelson_18MAR2021.shp</td>\n",
       "    </tr>\n",
       "    <tr>\n",
       "      <th>1385</th>\n",
       "      <td>MaxarImagery/HighFreq/Nelson/Nelson/Shorelines/Nelson_08FEB2016.shp</td>\n",
       "    </tr>\n",
       "    <tr>\n",
       "      <th>...</th>\n",
       "      <td>...</td>\n",
       "    </tr>\n",
       "    <tr>\n",
       "      <th>140219</th>\n",
       "      <td>Retrolens/Wellington/KapitiSouth/Shorelines/KapitiSouth_29OCT1973.shp</td>\n",
       "    </tr>\n",
       "    <tr>\n",
       "      <th>140221</th>\n",
       "      <td>Retrolens/Wellington/KapitiSouth/Shorelines/KapitiSouth_15APR1966.shp</td>\n",
       "    </tr>\n",
       "    <tr>\n",
       "      <th>140224</th>\n",
       "      <td>Retrolens/Wellington/KapitiSouth/Shorelines/KapitiSouth_17APR1952.shp</td>\n",
       "    </tr>\n",
       "    <tr>\n",
       "      <th>140278</th>\n",
       "      <td>Retrolens/Wellington/KapitiSouth/Shorelines/KapitiSouth_02JAN1988.shp</td>\n",
       "    </tr>\n",
       "    <tr>\n",
       "      <th>140285</th>\n",
       "      <td>Retrolens/Wellington/KapitiSouth/Shorelines/KapitiSouth_06OCT1980.shp</td>\n",
       "    </tr>\n",
       "  </tbody>\n",
       "</table>\n",
       "<p>898 rows × 1 columns</p>\n",
       "</div>"
      ],
      "text/plain": [
       "                                                                     filename\n",
       "1344      MaxarImagery/HighFreq/Nelson/Nelson/Shorelines/Nelson_13DEC2013.shp\n",
       "1368      MaxarImagery/HighFreq/Nelson/Nelson/Shorelines/Nelson_22NOV2017.shp\n",
       "1371      MaxarImagery/HighFreq/Nelson/Nelson/Shorelines/Nelson_14DEC2006.shp\n",
       "1375      MaxarImagery/HighFreq/Nelson/Nelson/Shorelines/Nelson_18MAR2021.shp\n",
       "1385      MaxarImagery/HighFreq/Nelson/Nelson/Shorelines/Nelson_08FEB2016.shp\n",
       "...                                                                       ...\n",
       "140219  Retrolens/Wellington/KapitiSouth/Shorelines/KapitiSouth_29OCT1973.shp\n",
       "140221  Retrolens/Wellington/KapitiSouth/Shorelines/KapitiSouth_15APR1966.shp\n",
       "140224  Retrolens/Wellington/KapitiSouth/Shorelines/KapitiSouth_17APR1952.shp\n",
       "140278  Retrolens/Wellington/KapitiSouth/Shorelines/KapitiSouth_02JAN1988.shp\n",
       "140285  Retrolens/Wellington/KapitiSouth/Shorelines/KapitiSouth_06OCT1980.shp\n",
       "\n",
       "[898 rows x 1 columns]"
      ]
     },
     "execution_count": 3,
     "metadata": {},
     "output_type": "execute_result"
    }
   ],
   "source": [
    "def check_filename(filename):\n",
    "    if \"Taranaki\" in filename:\n",
    "        return False\n",
    "    else:\n",
    "        # This regex only matches shapefiles that contain something date-like in their names\n",
    "        match = re.search(r'/Shorelines/\\w+\\d\\w+\\d{4}\\w*.shp$', filename)\n",
    "        return bool(match)\n",
    "\n",
    "df = filelist[filelist.apply(check_filename)].to_frame(name=\"filename\")\n",
    "df"
   ]
  },
  {
   "cell_type": "code",
   "execution_count": 4,
   "metadata": {},
   "outputs": [
    {
     "data": {
      "text/plain": [
       "236       MaxarImagery/HighFreq/HawkesBay/Mahanga/Imagery/Stack/Mahanga_08NOV2019_2.tif\n",
       "237       MaxarImagery/HighFreq/HawkesBay/Mahanga/Imagery/Stack/Mahanga_08NOV2019_1.tif\n",
       "239         MaxarImagery/HighFreq/HawkesBay/Mahanga/Imagery/Stack/Mahanga_12MAR2018.tif\n",
       "242         MaxarImagery/HighFreq/HawkesBay/Mahanga/Imagery/Stack/Mahanga_31AUG2005.tif\n",
       "254         MaxarImagery/HighFreq/HawkesBay/Mahanga/Imagery/Stack/Mahanga_25DEC2015.tif\n",
       "                                              ...                                      \n",
       "141460            Retrolens/Wellington/PukeruaBay/Stack/PukeruaBay_19NOV1972_mosaic.jp2\n",
       "141466            Retrolens/Wellington/PukeruaBay/Stack/PukeruaBay_04APR1986_mosaic.jp2\n",
       "141469            Retrolens/Wellington/PukeruaBay/Stack/PukeruaBay_10NOV1977_mosaic.tif\n",
       "141470            Retrolens/Wellington/PukeruaBay/Stack/PukeruaBay_22AUG1961_mosaic.tif\n",
       "141473            Retrolens/Wellington/PukeruaBay/Stack/PukeruaBay_01AUG1942_mosaic.jp2\n",
       "Name: 0, Length: 1904, dtype: object"
      ]
     },
     "execution_count": 4,
     "metadata": {},
     "output_type": "execute_result"
    }
   ],
   "source": [
    "images = filelist[filelist.str.contains(\"/Stack/\", case=False) & filelist.str.endswith((\".jpg\", \".jp2\", \".tif\"))]\n",
    "images"
   ]
  },
  {
   "cell_type": "code",
   "execution_count": 5,
   "metadata": {},
   "outputs": [
    {
     "name": "stdout",
     "output_type": "stream",
     "text": [
      "Perfect matches: 776\n",
      "Imperfect matches: 122\n"
     ]
    }
   ],
   "source": [
    "# When fuzzy matching, ignore these strings\n",
    "# _0 will ignore leading zeros in dates\n",
    "strings_to_delete = [\"_mosaic\", \"_mosiac\", \"_mosaid\", \".mosaic\", \"_cliff\", \"_beach\", \"_beachcliffsegment\", \"_MF.shp\", \"_MT.shp\", \"_0\", \"_1.tif\", \"_2.tif\", \"_3.tif\", \"_LDS\", \"_\"]\n",
    "\n",
    "def fuzz_preprocess(filename):\n",
    "    for s in strings_to_delete:\n",
    "        filename = filename.replace(s, \"\")\n",
    "    # Case-insensitive\n",
    "    filename = filename.lower()\n",
    "    # Ignore extension\n",
    "    filename = os.path.splitext(filename)[0]\n",
    "    # Basename only\n",
    "    filename = os.path.basename(filename)\n",
    "    return filename\n",
    "\n",
    "def get_matching_image(filename):\n",
    "    dirname = os.path.dirname(filename)\n",
    "    RL_dirname = dirname.replace(\"Stack/\", \"\").replace(\"Shorelines\", \"Stack\").replace(\"MaxarImagery/HighFreq\", \"Retrolens\")\n",
    "    Maxar_dirname = dirname.replace(\"Imagery/Shorelines\", \"Imagery/Stack\").replace(\"Shorelines\", \"Imagery/Stack\").replace(\"Retrolens\", \"MaxarImagery/HighFreq\")\n",
    "    Maxar_dirname_uppercase = Maxar_dirname.replace(\"Stack\", \"STACK\")\n",
    "    Maxar_dirname_outside_Imagery = Maxar_dirname.replace(\"Imagery/Stack\", \"Stack\")\n",
    "    all_files_in_folder = images[images.str.startswith((RL_dirname, Maxar_dirname, Maxar_dirname_uppercase, Maxar_dirname_outside_Imagery))]\n",
    "    if len(all_files_in_folder) == 0:\n",
    "        return \"\", 0\n",
    "    match, score, index = rapidfuzz.process.extractOne(query=filename, choices=all_files_in_folder, processor=fuzz_preprocess)\n",
    "    return match, score\n",
    "\n",
    "df[\"matched_image\"], df[\"match_score\"] = zip(*df.filename.apply(get_matching_image))\n",
    "print(\"Perfect matches:\", sum(df.match_score == 100))\n",
    "print(\"Imperfect matches:\", sum(df.match_score < 100))\n",
    "df[[\"filename\", \"matched_image\", \"match_score\"]].sort_values(by=\"match_score\").to_csv(\"shoreline_image_matching.csv\", index=False)"
   ]
  },
  {
   "cell_type": "code",
   "execution_count": 6,
   "metadata": {},
   "outputs": [],
   "source": [
    "coastline = gpd.read_file(\"lds-nz-coastlines-and-islands-polygons-topo-150k-FGDB.zip!nz-coastlines-and-islands-polygons-topo-150k.gdb\")"
   ]
  },
  {
   "cell_type": "code",
   "execution_count": 7,
   "metadata": {},
   "outputs": [
    {
     "data": {
      "text/html": [
       "<div>\n",
       "<style scoped>\n",
       "    .dataframe tbody tr th:only-of-type {\n",
       "        vertical-align: middle;\n",
       "    }\n",
       "\n",
       "    .dataframe tbody tr th {\n",
       "        vertical-align: top;\n",
       "    }\n",
       "\n",
       "    .dataframe thead th {\n",
       "        text-align: right;\n",
       "    }\n",
       "</style>\n",
       "<table border=\"1\" class=\"dataframe\">\n",
       "  <thead>\n",
       "    <tr style=\"text-align: right;\">\n",
       "      <th></th>\n",
       "      <th>filename</th>\n",
       "      <th>matched_image</th>\n",
       "      <th>match_score</th>\n",
       "    </tr>\n",
       "  </thead>\n",
       "  <tbody>\n",
       "    <tr>\n",
       "      <th>109856</th>\n",
       "      <td>Retrolens/Canterbury/SouthNewBrighton/Stack/Shorelines/SouthNewBrighton_16AUG1950.shp</td>\n",
       "      <td>Retrolens/Canterbury/SouthNewBrighton/Stack/SouthNewBrighton_16AUG1950_mosaic.jp2</td>\n",
       "      <td>100.0</td>\n",
       "    </tr>\n",
       "  </tbody>\n",
       "</table>\n",
       "</div>"
      ],
      "text/plain": [
       "                                                                                     filename  \\\n",
       "109856  Retrolens/Canterbury/SouthNewBrighton/Stack/Shorelines/SouthNewBrighton_16AUG1950.shp   \n",
       "\n",
       "                                                                            matched_image  \\\n",
       "109856  Retrolens/Canterbury/SouthNewBrighton/Stack/SouthNewBrighton_16AUG1950_mosaic.jp2   \n",
       "\n",
       "        match_score  \n",
       "109856        100.0  "
      ]
     },
     "metadata": {},
     "output_type": "display_data"
    },
    {
     "data": {
      "text/html": [
       "<div>\n",
       "<style scoped>\n",
       "    .dataframe tbody tr th:only-of-type {\n",
       "        vertical-align: middle;\n",
       "    }\n",
       "\n",
       "    .dataframe tbody tr th {\n",
       "        vertical-align: top;\n",
       "    }\n",
       "\n",
       "    .dataframe thead th {\n",
       "        text-align: right;\n",
       "    }\n",
       "</style>\n",
       "<table border=\"1\" class=\"dataframe\">\n",
       "  <thead>\n",
       "    <tr style=\"text-align: right;\">\n",
       "      <th></th>\n",
       "      <th>Id</th>\n",
       "      <th>Region</th>\n",
       "      <th>Site</th>\n",
       "      <th>Date</th>\n",
       "      <th>DSASDate</th>\n",
       "      <th>Digitiser</th>\n",
       "      <th>Scale</th>\n",
       "      <th>Notes</th>\n",
       "      <th>Source</th>\n",
       "      <th>geometry</th>\n",
       "    </tr>\n",
       "  </thead>\n",
       "  <tbody>\n",
       "    <tr>\n",
       "      <th>0</th>\n",
       "      <td>0</td>\n",
       "      <td>Canterbury</td>\n",
       "      <td>SouthNewBrighton</td>\n",
       "      <td>1950-08-16</td>\n",
       "      <td>16/08/1950</td>\n",
       "      <td>TK</td>\n",
       "      <td>1500</td>\n",
       "      <td>Seawall</td>\n",
       "      <td>RL</td>\n",
       "      <td>LINESTRING (1578276.140 5182925.104, 1578279.216 5182914.744, 1578278.422 5182913.950, 1578277.232 5182913.553, 1578276.835 51...</td>\n",
       "    </tr>\n",
       "    <tr>\n",
       "      <th>1</th>\n",
       "      <td>0</td>\n",
       "      <td>Canterbury</td>\n",
       "      <td>SouthNewBrighton</td>\n",
       "      <td>1950-08-16</td>\n",
       "      <td>16/08/1950</td>\n",
       "      <td>TK</td>\n",
       "      <td>1500</td>\n",
       "      <td>EOV</td>\n",
       "      <td>RL</td>\n",
       "      <td>LINESTRING (1578342.319 5182667.490, 1578343.113 5182661.537, 1578343.113 5182655.981, 1578343.907 5182650.028, 1578344.701 51...</td>\n",
       "    </tr>\n",
       "  </tbody>\n",
       "</table>\n",
       "</div>"
      ],
      "text/plain": [
       "   Id      Region              Site        Date    DSASDate Digitiser  Scale  \\\n",
       "0   0  Canterbury  SouthNewBrighton  1950-08-16  16/08/1950        TK   1500   \n",
       "1   0  Canterbury  SouthNewBrighton  1950-08-16  16/08/1950        TK   1500   \n",
       "\n",
       "     Notes Source  \\\n",
       "0  Seawall     RL   \n",
       "1      EOV     RL   \n",
       "\n",
       "                                                                                                                            geometry  \n",
       "0  LINESTRING (1578276.140 5182925.104, 1578279.216 5182914.744, 1578278.422 5182913.950, 1578277.232 5182913.553, 1578276.835 51...  \n",
       "1  LINESTRING (1578342.319 5182667.490, 1578343.113 5182661.537, 1578343.113 5182655.981, 1578343.907 5182650.028, 1578344.701 51...  "
      ]
     },
     "execution_count": 7,
     "metadata": {},
     "output_type": "execute_result"
    }
   ],
   "source": [
    "# Get a random (known-good) annotation\n",
    "sample = df[df.match_score == 100].sample(1)\n",
    "display(sample)\n",
    "image_filename = sample.matched_image.iloc[0]\n",
    "image = rio.open(image_filename)\n",
    "sample_gdf = gpd.read_file(sample.filename.iloc[0])\n",
    "sample_gdf"
   ]
  },
  {
   "cell_type": "code",
   "execution_count": 8,
   "metadata": {},
   "outputs": [
    {
     "data": {
      "text/html": [
       "<div>\n",
       "<style scoped>\n",
       "    .dataframe tbody tr th:only-of-type {\n",
       "        vertical-align: middle;\n",
       "    }\n",
       "\n",
       "    .dataframe tbody tr th {\n",
       "        vertical-align: top;\n",
       "    }\n",
       "\n",
       "    .dataframe thead th {\n",
       "        text-align: right;\n",
       "    }\n",
       "</style>\n",
       "<table border=\"1\" class=\"dataframe\">\n",
       "  <thead>\n",
       "    <tr style=\"text-align: right;\">\n",
       "      <th></th>\n",
       "      <th>level_0</th>\n",
       "      <th>level_1</th>\n",
       "      <th>geometry</th>\n",
       "      <th>area</th>\n",
       "    </tr>\n",
       "  </thead>\n",
       "  <tbody>\n",
       "    <tr>\n",
       "      <th>2</th>\n",
       "      <td>1</td>\n",
       "      <td>0</td>\n",
       "      <td>POLYGON ((1579645.660 5177106.070, 1578342.319 5177106.070, 1578342.319 5182667.490, 1578343.113 5182661.537, 1578343.113 5182...</td>\n",
       "      <td>4.671693e+06</td>\n",
       "    </tr>\n",
       "    <tr>\n",
       "      <th>4</th>\n",
       "      <td>1</td>\n",
       "      <td>2</td>\n",
       "      <td>POLYGON ((1578342.319 5182667.490, 1579931.410 5182667.490, 1579931.410 5177564.858, 1579929.426 5177569.224, 1579929.029 5177...</td>\n",
       "      <td>4.120491e+06</td>\n",
       "    </tr>\n",
       "  </tbody>\n",
       "</table>\n",
       "</div>"
      ],
      "text/plain": [
       "   level_0  level_1  \\\n",
       "2        1        0   \n",
       "4        1        2   \n",
       "\n",
       "                                                                                                                            geometry  \\\n",
       "2  POLYGON ((1579645.660 5177106.070, 1578342.319 5177106.070, 1578342.319 5182667.490, 1578343.113 5182661.537, 1578343.113 5182...   \n",
       "4  POLYGON ((1578342.319 5182667.490, 1579931.410 5182667.490, 1579931.410 5177564.858, 1579929.426 5177569.224, 1579929.029 5177...   \n",
       "\n",
       "           area  \n",
       "2  4.671693e+06  \n",
       "4  4.120491e+06  "
      ]
     },
     "execution_count": 8,
     "metadata": {},
     "output_type": "execute_result"
    }
   ],
   "source": [
    "def line_to_split_bbox(geo):\n",
    "    bounding_box = geo.envelope\n",
    "    split_bbox = shapely.ops.split(bounding_box, geo)\n",
    "    return split_bbox\n",
    "\n",
    "split_bboxes = sample_gdf.geometry.apply(line_to_split_bbox).explode(index_parts=True).reset_index()\n",
    "split_bboxes[\"area\"] = split_bboxes.area\n",
    "split_bboxes = split_bboxes[split_bboxes.area > 1e5]\n",
    "split_bboxes"
   ]
  },
  {
   "cell_type": "code",
   "execution_count": 9,
   "metadata": {},
   "outputs": [
    {
     "name": "stderr",
     "output_type": "stream",
     "text": [
      "/usr/local/lib/python3.8/dist-packages/geopandas/tools/clip.py:63: FutureWarning: In a future version, `df.iloc[:, i] = newvals` will attempt to set the values inplace instead of always setting a new array. To retain the old behavior, use either `df[df.columns[i]] = newvals` or, if columns are non-unique, `df.isetitem(i, newvals)`\n",
      "  clipped.loc[\n",
      "/usr/local/lib/python3.8/dist-packages/geopandas/tools/clip.py:67: FutureWarning: In a future version, `df.iloc[:, i] = newvals` will attempt to set the values inplace instead of always setting a new array. To retain the old behavior, use either `df[df.columns[i]] = newvals` or, if columns are non-unique, `df.isetitem(i, newvals)`\n",
      "  clipped.loc[\n"
     ]
    },
    {
     "data": {
      "text/html": [
       "<div>\n",
       "<style scoped>\n",
       "    .dataframe tbody tr th:only-of-type {\n",
       "        vertical-align: middle;\n",
       "    }\n",
       "\n",
       "    .dataframe tbody tr th {\n",
       "        vertical-align: top;\n",
       "    }\n",
       "\n",
       "    .dataframe thead th {\n",
       "        text-align: right;\n",
       "    }\n",
       "</style>\n",
       "<table border=\"1\" class=\"dataframe\">\n",
       "  <thead>\n",
       "    <tr style=\"text-align: right;\">\n",
       "      <th></th>\n",
       "      <th>level_0</th>\n",
       "      <th>level_1</th>\n",
       "      <th>geometry</th>\n",
       "      <th>area</th>\n",
       "      <th>area_inland</th>\n",
       "      <th>fraction_inland</th>\n",
       "      <th>class</th>\n",
       "    </tr>\n",
       "  </thead>\n",
       "  <tbody>\n",
       "    <tr>\n",
       "      <th>2</th>\n",
       "      <td>1</td>\n",
       "      <td>0</td>\n",
       "      <td>POLYGON ((1579645.660 5177106.070, 1578342.319 5177106.070, 1578342.319 5182667.490, 1578343.113 5182661.537, 1578343.113 5182...</td>\n",
       "      <td>4.671693e+06</td>\n",
       "      <td>2.403865e+06</td>\n",
       "      <td>0.514560</td>\n",
       "      <td>land</td>\n",
       "    </tr>\n",
       "    <tr>\n",
       "      <th>4</th>\n",
       "      <td>1</td>\n",
       "      <td>2</td>\n",
       "      <td>POLYGON ((1578342.319 5182667.490, 1579931.410 5182667.490, 1579931.410 5177564.858, 1579929.426 5177569.224, 1579929.029 5177...</td>\n",
       "      <td>4.120491e+06</td>\n",
       "      <td>2.562627e+05</td>\n",
       "      <td>0.062192</td>\n",
       "      <td>sea</td>\n",
       "    </tr>\n",
       "  </tbody>\n",
       "</table>\n",
       "</div>"
      ],
      "text/plain": [
       "   level_0  level_1  \\\n",
       "2        1        0   \n",
       "4        1        2   \n",
       "\n",
       "                                                                                                                            geometry  \\\n",
       "2  POLYGON ((1579645.660 5177106.070, 1578342.319 5177106.070, 1578342.319 5182667.490, 1578343.113 5182661.537, 1578343.113 5182...   \n",
       "4  POLYGON ((1578342.319 5182667.490, 1579931.410 5182667.490, 1579931.410 5177564.858, 1579929.426 5177569.224, 1579929.029 5177...   \n",
       "\n",
       "           area   area_inland  fraction_inland class  \n",
       "2  4.671693e+06  2.403865e+06         0.514560  land  \n",
       "4  4.120491e+06  2.562627e+05         0.062192   sea  "
      ]
     },
     "execution_count": 9,
     "metadata": {},
     "output_type": "execute_result"
    }
   ],
   "source": [
    "relevant_coastline = coastline.clip(split_bboxes.total_bounds)\n",
    "split_bboxes[\"area_inland\"] = split_bboxes.clip(relevant_coastline).area\n",
    "split_bboxes[\"fraction_inland\"] = split_bboxes.area_inland / split_bboxes.area\n",
    "split_bboxes[\"class\"] = split_bboxes.fraction_inland.apply(lambda f: \"land\" if f > .5 else \"sea\")\n",
    "split_bboxes"
   ]
  },
  {
   "cell_type": "code",
   "execution_count": 10,
   "metadata": {},
   "outputs": [
    {
     "name": "stderr",
     "output_type": "stream",
     "text": [
      "Clipping input data to the valid range for imshow with RGB data ([0..1] for floats or [0..255] for integers).\n"
     ]
    },
    {
     "data": {
      "text/plain": [
       "(5177106.069971845, 5182667.490469688)"
      ]
     },
     "execution_count": 10,
     "metadata": {},
     "output_type": "execute_result"
    },
    {
     "data": {
      "image/png": "[encoded data removed]",
      "text/plain": [
       "<Figure size 1440x720 with 1 Axes>"
      ]
     },
     "metadata": {
      "needs_background": "light"
     },
     "output_type": "display_data"
    }
   ],
   "source": [
    "# Plot the results, and check it all looks ok\n",
    "fig, ax = plt.subplots()\n",
    "ax = rasterio.plot.show(image, ax=ax)\n",
    "\n",
    "cmap = matplotlib.colors.ListedColormap(['green', 'blue'])\n",
    "split_bboxes.plot(ax=ax, alpha=.5, column='class', cmap=cmap, categorical=True, legend=True, edgecolor='black')\n",
    "split_bboxes.apply(lambda x: ax.annotate(text=round(x.fraction_inland, 2), xy=x.geometry.centroid.coords[0], ha='center'), axis=1)\n",
    "\n",
    "#relevant_coastline.plot(ax=ax, alpha=.5, edgecolor=\"cyan\")\n",
    "\n",
    "b = split_bboxes.total_bounds\n",
    "xlim = ([b[0], b[2]])\n",
    "ylim = ([b[1], b[3]])\n",
    "ax.set_xlim(xlim)\n",
    "ax.set_ylim(ylim)"
   ]
  },
  {
   "cell_type": "code",
   "execution_count": 11,
   "metadata": {},
   "outputs": [
    {
     "data": {
      "text/plain": [
       "'SouthNewBrighton_16AUG1950'"
      ]
     },
     "execution_count": 11,
     "metadata": {},
     "output_type": "execute_result"
    }
   ],
   "source": [
    "name = os.path.splitext(os.path.basename(sample.filename.iloc[0]))[0]\n",
    "name"
   ]
  },
  {
   "cell_type": "code",
   "execution_count": 12,
   "metadata": {},
   "outputs": [],
   "source": [
    "geojson_filename = f\"polygon_annotations/{name}.geojson\"\n",
    "split_bboxes.to_file(geojson_filename, driver='GeoJSON')"
   ]
  },
  {
   "cell_type": "code",
   "execution_count": 13,
   "metadata": {},
   "outputs": [
    {
     "data": {
      "text/plain": [
       "<Projected CRS: EPSG:2193>\n",
       "Name: NZGD2000 / New Zealand Transverse Mercator 2000\n",
       "Axis Info [cartesian]:\n",
       "- N[north]: Northing (metre)\n",
       "- E[east]: Easting (metre)\n",
       "Area of Use:\n",
       "- name: New Zealand - North Island, South Island, Stewart Island - onshore.\n",
       "- bounds: (166.37, -47.33, 178.63, -34.1)\n",
       "Coordinate Operation:\n",
       "- name: New Zealand Transverse Mercator 2000\n",
       "- method: Transverse Mercator\n",
       "Datum: New Zealand Geodetic Datum 2000\n",
       "- Ellipsoid: GRS 1980\n",
       "- Prime Meridian: Greenwich"
      ]
     },
     "execution_count": 13,
     "metadata": {},
     "output_type": "execute_result"
    }
   ],
   "source": [
    "split_bboxes.crs"
   ]
  },
  {
   "cell_type": "code",
   "execution_count": 14,
   "metadata": {},
   "outputs": [
    {
     "data": {
      "text/plain": [
       "{'driver': 'JP2OpenJPEG', 'dtype': 'uint16', 'nodata': 256.0, 'width': 7727, 'height': 17375, 'count': 3, 'crs': CRS.from_wkt('PROJCS[\"NZGD2000 / New Zealand Transverse Mercator 2000\",GEOGCS[\"NZGD2000\",DATUM[\"New_Zealand_Geodetic_Datum_2000\",SPHEROID[\"GRS 1980\",6378137,298.257222101004,AUTHORITY[\"EPSG\",\"7019\"]],AUTHORITY[\"EPSG\",\"6167\"]],PRIMEM[\"Greenwich\",0],UNIT[\"degree\",0.0174532925199433,AUTHORITY[\"EPSG\",\"9122\"]],AUTHORITY[\"EPSG\",\"4167\"]],PROJECTION[\"Transverse_Mercator\"],PARAMETER[\"latitude_of_origin\",0],PARAMETER[\"central_meridian\",173],PARAMETER[\"scale_factor\",0.9996],PARAMETER[\"false_easting\",1600000],PARAMETER[\"false_northing\",10000000],UNIT[\"metre\",1,AUTHORITY[\"EPSG\",\"9001\"]],AXIS[\"Easting\",EAST],AXIS[\"Northing\",NORTH],AUTHORITY[\"EPSG\",\"2193\"]]'), 'transform': Affine(0.400000000000006, 0.0, 1577556.6100974781,\n",
       "       0.0, -0.4, 5183399.023433069), 'blockxsize': 1024, 'blockysize': 1024, 'tiled': True, 'interleave': 'pixel'}"
      ]
     },
     "execution_count": 14,
     "metadata": {},
     "output_type": "execute_result"
    }
   ],
   "source": [
    "image.profile"
   ]
  },
  {
   "cell_type": "code",
   "execution_count": 15,
   "metadata": {},
   "outputs": [
    {
     "data": {
      "text/plain": [
       "'training_tiles/Retrolens/Canterbury/SouthNewBrighton/Stack/SouthNewBrighton_16AUG1950_mosaic'"
      ]
     },
     "execution_count": 15,
     "metadata": {},
     "output_type": "execute_result"
    }
   ],
   "source": [
    "folder = \"training_tiles/\" + os.path.splitext(image_filename)[0]\n",
    "folder"
   ]
  },
  {
   "cell_type": "code",
   "execution_count": 16,
   "metadata": {},
   "outputs": [],
   "source": [
    "if not image.crs and image.gcps:\n",
    "    image_filename = \"temp/\" + os.path.basename(image_filename)\n",
    "    with rasterio.open(image_filename, \"w\", **image.profile) as dst:\n",
    "        dst.write(image.read())\n",
    "        dst.transform = rasterio.transform.from_gcps(image.gcps[0])\n",
    "        dst.crs = image.gcps[1]\n",
    "        print(f\"Wrote to {image_filename} with corrected CRS\")"
   ]
  },
  {
   "cell_type": "code",
   "execution_count": 17,
   "metadata": {},
   "outputs": [
    {
     "data": {
      "application/vnd.jupyter.widget-view+json": {
       "model_id": "8a41cc6508974730af1ed9a1ea5586e0",
       "version_major": 2,
       "version_minor": 0
      },
      "text/plain": [
       "  0%|          | 0/2 [00:00<?, ?it/s]"
      ]
     },
     "metadata": {},
     "output_type": "display_data"
    }
   ],
   "source": [
    "for bounding_box in tqdm(split_bboxes.envelope):\n",
    "    with contextlib.redirect_stdout(io.StringIO()):\n",
    "        raster_tiler = tile.raster_tile.RasterTiler(\n",
    "            dest_dir=folder,  # the directory to save images to\n",
    "            src_tile_size=(800, 800),  # the size of the output chips\n",
    "            verbose=False,\n",
    "            aoi_boundary=bounding_box,\n",
    "        )\n",
    "        raster_bounds_crs = raster_tiler.tile(image_filename, restrict_to_aoi=True, nodata_threshold=.5, dest_fname_base=name)\n",
    "        vector_tiler = tile.vector_tile.VectorTiler(\n",
    "            dest_dir=folder,\n",
    "            verbose=False\n",
    "        )\n",
    "        vector_tiler.tile(\n",
    "            geojson_filename,\n",
    "            tile_bounds=raster_tiler.tile_bounds,\n",
    "            tile_bounds_crs=raster_bounds_crs,\n",
    "            dest_fname_base=name,\n",
    "        )"
   ]
  },
  {
   "cell_type": "code",
   "execution_count": 18,
   "metadata": {},
   "outputs": [
    {
     "data": {
      "application/vnd.jupyter.widget-view+json": {
       "model_id": "f009788fc40e4aa89533fdbbbfadf1f3",
       "version_major": 2,
       "version_minor": 0
      },
      "text/plain": [
       "  0%|          | 0/153 [00:00<?, ?it/s]"
      ]
     },
     "metadata": {},
     "output_type": "display_data"
    }
   ],
   "source": [
    "coco_geojson = coco.geojson2coco(\n",
    "    \"training_tiles\",\n",
    "    \"training_tiles\",\n",
    "    recursive=True,\n",
    "    output_path=f\"coco.json\",\n",
    "    matching_re=r\"(\\d{7}_\\d{7})\",\n",
    "    category_attribute=\"class\",\n",
    "    explode_all_multipolygons=True,\n",
    "    verbose=True,\n",
    ")"
   ]
  }
 ],
 "metadata": {
  "kernelspec": {
   "display_name": "Python 3",
   "language": "python",
   "name": "python3"
  },
  "language_info": {
   "codemirror_mode": {
    "name": "ipython",
    "version": 3
   },
   "file_extension": ".py",
   "mimetype": "text/x-python",
   "name": "python",
   "nbconvert_exporter": "python",
   "pygments_lexer": "ipython3",
   "version": "3.8.5"
  },
  "orig_nbformat": 4
 },
 "nbformat": 4,
 "nbformat_minor": 2
}
