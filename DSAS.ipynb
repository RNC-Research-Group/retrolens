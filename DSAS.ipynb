{
 "cells": [
  {
   "cell_type": "code",
   "execution_count": 1,
   "metadata": {},
   "outputs": [
    {
     "data": {
      "text/html": [
       "<pre>✔️ 849 ms (2024-09-04T09:48:28/2024-09-04T09:48:29)</pre>"
      ],
      "text/plain": [
       "<IPython.core.display.HTML object>"
      ]
     },
     "metadata": {},
     "output_type": "display_data"
    },
    {
     "name": "stderr",
     "output_type": "stream",
     "text": [
      "/home/nyou045/retrolens/venv/lib/python3.10/site-packages/tqdm/auto.py:21: TqdmWarning: IProgress not found. Please update jupyter and ipywidgets. See https://ipywidgets.readthedocs.io/en/stable/user_install.html\n",
      "  from .autonotebook import tqdm as notebook_tqdm\n"
     ]
    }
   ],
   "source": [
    "%load_ext autotime\n",
    "import geopandas as gpd\n",
    "import pandas as pd\n",
    "import numpy as np\n",
    "from tqdm.auto import tqdm\n",
    "import statsmodels.api as sm\n",
    "import shapely\n",
    "from tqdm.contrib.concurrent import process_map\n",
    "from glob import glob\n",
    "pd.set_option('display.max_columns', None)"
   ]
  },
  {
   "cell_type": "code",
   "execution_count": 2,
   "metadata": {},
   "outputs": [
    {
     "data": {
      "text/html": [
       "<pre>✔️ 395 ms (2024-09-04T09:48:29/2024-09-04T09:48:29)</pre>"
      ],
      "text/plain": [
       "<IPython.core.display.HTML object>"
      ]
     },
     "metadata": {},
     "output_type": "display_data"
    },
    {
     "data": {
      "text/html": [
       "<div>\n",
       "<style scoped>\n",
       "    .dataframe tbody tr th:only-of-type {\n",
       "        vertical-align: middle;\n",
       "    }\n",
       "\n",
       "    .dataframe tbody tr th {\n",
       "        vertical-align: top;\n",
       "    }\n",
       "\n",
       "    .dataframe thead th {\n",
       "        text-align: right;\n",
       "    }\n",
       "</style>\n",
       "<table border=\"1\" class=\"dataframe\">\n",
       "  <thead>\n",
       "    <tr style=\"text-align: right;\">\n",
       "      <th></th>\n",
       "      <th>Region</th>\n",
       "      <th>Site</th>\n",
       "      <th>Digitiser</th>\n",
       "      <th>Scale</th>\n",
       "      <th>Notes</th>\n",
       "      <th>Source</th>\n",
       "      <th>CPS</th>\n",
       "      <th>Proxy</th>\n",
       "      <th>Photoscale</th>\n",
       "      <th>Georef_ER</th>\n",
       "      <th>Pixel_Er</th>\n",
       "      <th>Total_UNCY</th>\n",
       "      <th>USDate</th>\n",
       "      <th>SHLength</th>\n",
       "      <th>Date</th>\n",
       "      <th>ID</th>\n",
       "      <th>geometry</th>\n",
       "    </tr>\n",
       "  </thead>\n",
       "  <tbody>\n",
       "    <tr>\n",
       "      <th>0</th>\n",
       "      <td>Auckland</td>\n",
       "      <td>KarekareBethells</td>\n",
       "      <td>MW</td>\n",
       "      <td>2000</td>\n",
       "      <td>tod</td>\n",
       "      <td>RL</td>\n",
       "      <td>4</td>\n",
       "      <td>1</td>\n",
       "      <td>40000</td>\n",
       "      <td>5.03</td>\n",
       "      <td>1.416425</td>\n",
       "      <td>5.620681</td>\n",
       "      <td>01/02/2004</td>\n",
       "      <td>1.265403</td>\n",
       "      <td>2004-01-02</td>\n",
       "      <td>0.0</td>\n",
       "      <td>LINESTRING Z (1728907.5 5916213.248 0, 1728868...</td>\n",
       "    </tr>\n",
       "    <tr>\n",
       "      <th>1</th>\n",
       "      <td>Auckland</td>\n",
       "      <td>KarekareBethells</td>\n",
       "      <td>MW</td>\n",
       "      <td>2000</td>\n",
       "      <td>tod</td>\n",
       "      <td>RL</td>\n",
       "      <td>4</td>\n",
       "      <td>1</td>\n",
       "      <td>40000</td>\n",
       "      <td>5.03</td>\n",
       "      <td>1.416425</td>\n",
       "      <td>5.620681</td>\n",
       "      <td>01/02/2004</td>\n",
       "      <td>0.307010</td>\n",
       "      <td>2004-01-02</td>\n",
       "      <td>1.0</td>\n",
       "      <td>LINESTRING Z (1729067.838 5914779.733 0, 17290...</td>\n",
       "    </tr>\n",
       "    <tr>\n",
       "      <th>2</th>\n",
       "      <td>Auckland</td>\n",
       "      <td>KarekareBethells</td>\n",
       "      <td>MW</td>\n",
       "      <td>2000</td>\n",
       "      <td>tod (landward)</td>\n",
       "      <td>RL</td>\n",
       "      <td>4</td>\n",
       "      <td>1</td>\n",
       "      <td>40000</td>\n",
       "      <td>5.03</td>\n",
       "      <td>1.416425</td>\n",
       "      <td>5.620681</td>\n",
       "      <td>01/02/2004</td>\n",
       "      <td>0.255243</td>\n",
       "      <td>2004-01-02</td>\n",
       "      <td>2.0</td>\n",
       "      <td>LINESTRING Z (1729647.881 5911983.994 0, 17296...</td>\n",
       "    </tr>\n",
       "    <tr>\n",
       "      <th>3</th>\n",
       "      <td>Auckland</td>\n",
       "      <td>KarekareBethells</td>\n",
       "      <td>MW</td>\n",
       "      <td>2000</td>\n",
       "      <td>tod</td>\n",
       "      <td>RL</td>\n",
       "      <td>3</td>\n",
       "      <td>1</td>\n",
       "      <td>40000</td>\n",
       "      <td>5.03</td>\n",
       "      <td>1.416425</td>\n",
       "      <td>5.314890</td>\n",
       "      <td>01/02/2004</td>\n",
       "      <td>1.107251</td>\n",
       "      <td>2004-01-02</td>\n",
       "      <td>3.0</td>\n",
       "      <td>MULTILINESTRING Z ((1728131.079 5917218.888 0,...</td>\n",
       "    </tr>\n",
       "    <tr>\n",
       "      <th>4</th>\n",
       "      <td>Auckland</td>\n",
       "      <td>KarekareBethells</td>\n",
       "      <td>MW</td>\n",
       "      <td>2000</td>\n",
       "      <td>tod</td>\n",
       "      <td>RL</td>\n",
       "      <td>4</td>\n",
       "      <td>1</td>\n",
       "      <td>40000</td>\n",
       "      <td>5.03</td>\n",
       "      <td>1.416425</td>\n",
       "      <td>5.620681</td>\n",
       "      <td>01/02/2004</td>\n",
       "      <td>0.770375</td>\n",
       "      <td>2004-01-02</td>\n",
       "      <td>4.0</td>\n",
       "      <td>MULTILINESTRING Z ((1729643.228 5912906.682 0,...</td>\n",
       "    </tr>\n",
       "    <tr>\n",
       "      <th>...</th>\n",
       "      <td>...</td>\n",
       "      <td>...</td>\n",
       "      <td>...</td>\n",
       "      <td>...</td>\n",
       "      <td>...</td>\n",
       "      <td>...</td>\n",
       "      <td>...</td>\n",
       "      <td>...</td>\n",
       "      <td>...</td>\n",
       "      <td>...</td>\n",
       "      <td>...</td>\n",
       "      <td>...</td>\n",
       "      <td>...</td>\n",
       "      <td>...</td>\n",
       "      <td>...</td>\n",
       "      <td>...</td>\n",
       "      <td>...</td>\n",
       "    </tr>\n",
       "    <tr>\n",
       "      <th>19661</th>\n",
       "      <td>West Coast</td>\n",
       "      <td>WoodpeckerBay</td>\n",
       "      <td>MD</td>\n",
       "      <td>1000</td>\n",
       "      <td>EdgeVeg</td>\n",
       "      <td>RL</td>\n",
       "      <td>2</td>\n",
       "      <td>1</td>\n",
       "      <td>18800</td>\n",
       "      <td>4.00</td>\n",
       "      <td>0.630693</td>\n",
       "      <td>3.736680</td>\n",
       "      <td>11/18/1948</td>\n",
       "      <td>1.191368</td>\n",
       "      <td>1948-11-18</td>\n",
       "      <td>19661.0</td>\n",
       "      <td>LINESTRING Z (1467237.671 5348414.193 0, 14672...</td>\n",
       "    </tr>\n",
       "    <tr>\n",
       "      <th>19662</th>\n",
       "      <td>Otago</td>\n",
       "      <td>Oamaru</td>\n",
       "      <td>TK</td>\n",
       "      <td>1500</td>\n",
       "      <td>Top of cliff</td>\n",
       "      <td>Max</td>\n",
       "      <td>3</td>\n",
       "      <td>2</td>\n",
       "      <td>0</td>\n",
       "      <td>2.02</td>\n",
       "      <td>0.412236</td>\n",
       "      <td>2.278429</td>\n",
       "      <td>04/04/2018</td>\n",
       "      <td>0.650952</td>\n",
       "      <td>2018-04-04</td>\n",
       "      <td>19662.0</td>\n",
       "      <td>LINESTRING Z (1444386.944 5008247.367 0, 14443...</td>\n",
       "    </tr>\n",
       "    <tr>\n",
       "      <th>19663</th>\n",
       "      <td>Otago</td>\n",
       "      <td>Oamaru</td>\n",
       "      <td>TK</td>\n",
       "      <td>1500</td>\n",
       "      <td>Top of cliff</td>\n",
       "      <td>Max</td>\n",
       "      <td>3</td>\n",
       "      <td>2</td>\n",
       "      <td>0</td>\n",
       "      <td>2.02</td>\n",
       "      <td>0.412236</td>\n",
       "      <td>2.278429</td>\n",
       "      <td>04/04/2018</td>\n",
       "      <td>0.179434</td>\n",
       "      <td>2018-04-04</td>\n",
       "      <td>19663.0</td>\n",
       "      <td>LINESTRING Z (1444860.629 5008686.925 0, 14448...</td>\n",
       "    </tr>\n",
       "    <tr>\n",
       "      <th>19664</th>\n",
       "      <td>Otago</td>\n",
       "      <td>Oamaru</td>\n",
       "      <td>TK</td>\n",
       "      <td>1500</td>\n",
       "      <td>Top of cliff</td>\n",
       "      <td>Max</td>\n",
       "      <td>3</td>\n",
       "      <td>2</td>\n",
       "      <td>0</td>\n",
       "      <td>2.02</td>\n",
       "      <td>0.412236</td>\n",
       "      <td>2.278429</td>\n",
       "      <td>04/04/2018</td>\n",
       "      <td>0.174825</td>\n",
       "      <td>2018-04-04</td>\n",
       "      <td>19664.0</td>\n",
       "      <td>LINESTRING Z (1444996.286 5008822.252 0, 14450...</td>\n",
       "    </tr>\n",
       "    <tr>\n",
       "      <th>19665</th>\n",
       "      <td>Otago</td>\n",
       "      <td>Oamaru</td>\n",
       "      <td>TK</td>\n",
       "      <td>1509</td>\n",
       "      <td>Top of cliff</td>\n",
       "      <td>Max</td>\n",
       "      <td>3</td>\n",
       "      <td>2</td>\n",
       "      <td>0</td>\n",
       "      <td>2.02</td>\n",
       "      <td>0.412236</td>\n",
       "      <td>2.278429</td>\n",
       "      <td>04/04/2018</td>\n",
       "      <td>0.699719</td>\n",
       "      <td>2018-04-04</td>\n",
       "      <td>19665.0</td>\n",
       "      <td>LINESTRING Z (1445121.287 5008941.631 0, 14451...</td>\n",
       "    </tr>\n",
       "  </tbody>\n",
       "</table>\n",
       "<p>19666 rows × 17 columns</p>\n",
       "</div>"
      ],
      "text/plain": [
       "           Region              Site Digitiser  Scale           Notes Source  \\\n",
       "0        Auckland  KarekareBethells        MW   2000             tod     RL   \n",
       "1        Auckland  KarekareBethells        MW   2000             tod     RL   \n",
       "2        Auckland  KarekareBethells        MW   2000  tod (landward)     RL   \n",
       "3        Auckland  KarekareBethells        MW   2000             tod     RL   \n",
       "4        Auckland  KarekareBethells        MW   2000             tod     RL   \n",
       "...           ...               ...       ...    ...             ...    ...   \n",
       "19661  West Coast     WoodpeckerBay        MD   1000         EdgeVeg     RL   \n",
       "19662       Otago            Oamaru        TK   1500    Top of cliff    Max   \n",
       "19663       Otago            Oamaru        TK   1500    Top of cliff    Max   \n",
       "19664       Otago            Oamaru        TK   1500    Top of cliff    Max   \n",
       "19665       Otago            Oamaru        TK   1509    Top of cliff    Max   \n",
       "\n",
       "       CPS  Proxy  Photoscale  Georef_ER  Pixel_Er  Total_UNCY      USDate  \\\n",
       "0        4      1       40000       5.03  1.416425    5.620681  01/02/2004   \n",
       "1        4      1       40000       5.03  1.416425    5.620681  01/02/2004   \n",
       "2        4      1       40000       5.03  1.416425    5.620681  01/02/2004   \n",
       "3        3      1       40000       5.03  1.416425    5.314890  01/02/2004   \n",
       "4        4      1       40000       5.03  1.416425    5.620681  01/02/2004   \n",
       "...    ...    ...         ...        ...       ...         ...         ...   \n",
       "19661    2      1       18800       4.00  0.630693    3.736680  11/18/1948   \n",
       "19662    3      2           0       2.02  0.412236    2.278429  04/04/2018   \n",
       "19663    3      2           0       2.02  0.412236    2.278429  04/04/2018   \n",
       "19664    3      2           0       2.02  0.412236    2.278429  04/04/2018   \n",
       "19665    3      2           0       2.02  0.412236    2.278429  04/04/2018   \n",
       "\n",
       "       SHLength       Date       ID  \\\n",
       "0      1.265403 2004-01-02      0.0   \n",
       "1      0.307010 2004-01-02      1.0   \n",
       "2      0.255243 2004-01-02      2.0   \n",
       "3      1.107251 2004-01-02      3.0   \n",
       "4      0.770375 2004-01-02      4.0   \n",
       "...         ...        ...      ...   \n",
       "19661  1.191368 1948-11-18  19661.0   \n",
       "19662  0.650952 2018-04-04  19662.0   \n",
       "19663  0.179434 2018-04-04  19663.0   \n",
       "19664  0.174825 2018-04-04  19664.0   \n",
       "19665  0.699719 2018-04-04  19665.0   \n",
       "\n",
       "                                                geometry  \n",
       "0      LINESTRING Z (1728907.5 5916213.248 0, 1728868...  \n",
       "1      LINESTRING Z (1729067.838 5914779.733 0, 17290...  \n",
       "2      LINESTRING Z (1729647.881 5911983.994 0, 17296...  \n",
       "3      MULTILINESTRING Z ((1728131.079 5917218.888 0,...  \n",
       "4      MULTILINESTRING Z ((1729643.228 5912906.682 0,...  \n",
       "...                                                  ...  \n",
       "19661  LINESTRING Z (1467237.671 5348414.193 0, 14672...  \n",
       "19662  LINESTRING Z (1444386.944 5008247.367 0, 14443...  \n",
       "19663  LINESTRING Z (1444860.629 5008686.925 0, 14448...  \n",
       "19664  LINESTRING Z (1444996.286 5008822.252 0, 14450...  \n",
       "19665  LINESTRING Z (1445121.287 5008941.631 0, 14451...  \n",
       "\n",
       "[19666 rows x 17 columns]"
      ]
     },
     "execution_count": 2,
     "metadata": {},
     "output_type": "execute_result"
    }
   ],
   "source": [
    "shorelines = gpd.read_file(\"Data for testing/NZCCDv1.shp\")\n",
    "shorelines"
   ]
  },
  {
   "cell_type": "code",
   "execution_count": 3,
   "metadata": {},
   "outputs": [
    {
     "data": {
      "text/html": [
       "<pre>✔️ 708 ms (2024-09-04T09:48:29/2024-09-04T09:48:30)</pre>"
      ],
      "text/plain": [
       "<IPython.core.display.HTML object>"
      ]
     },
     "metadata": {},
     "output_type": "display_data"
    },
    {
     "name": "stderr",
     "output_type": "stream",
     "text": [
      "/home/nyou045/retrolens/venv/lib/python3.10/site-packages/pyogrio/raw.py:196: UserWarning: Measured (M) geometry types are not supported. Original type 'Measured 3D LineString' is converted to 'LineString Z'\n",
      "  return ogr_read(\n",
      "/home/nyou045/retrolens/venv/lib/python3.10/site-packages/pyogrio/raw.py:196: UserWarning: Measured (M) geometry types are not supported. Original type 'Measured 3D LineString' is converted to 'LineString Z'\n",
      "  return ogr_read(\n",
      "/home/nyou045/retrolens/venv/lib/python3.10/site-packages/pyogrio/raw.py:196: UserWarning: Measured (M) geometry types are not supported. Original type 'Measured 3D LineString' is converted to 'LineString Z'\n",
      "  return ogr_read(\n",
      "/home/nyou045/retrolens/venv/lib/python3.10/site-packages/pyogrio/raw.py:196: UserWarning: Measured (M) geometry types are not supported. Original type 'Measured 3D LineString' is converted to 'LineString Z'\n",
      "  return ogr_read(\n",
      "/home/nyou045/retrolens/venv/lib/python3.10/site-packages/pyogrio/raw.py:196: UserWarning: Measured (M) geometry types are not supported. Original type 'Measured 3D LineString' is converted to 'LineString Z'\n",
      "  return ogr_read(\n"
     ]
    },
    {
     "data": {
      "text/html": [
       "<div>\n",
       "<style scoped>\n",
       "    .dataframe tbody tr th:only-of-type {\n",
       "        vertical-align: middle;\n",
       "    }\n",
       "\n",
       "    .dataframe tbody tr th {\n",
       "        vertical-align: top;\n",
       "    }\n",
       "\n",
       "    .dataframe thead th {\n",
       "        text-align: right;\n",
       "    }\n",
       "</style>\n",
       "<table border=\"1\" class=\"dataframe\">\n",
       "  <thead>\n",
       "    <tr style=\"text-align: right;\">\n",
       "      <th></th>\n",
       "      <th>geometry</th>\n",
       "    </tr>\n",
       "    <tr>\n",
       "      <th>Unique_ID</th>\n",
       "      <th></th>\n",
       "    </tr>\n",
       "  </thead>\n",
       "  <tbody>\n",
       "    <tr>\n",
       "      <th>1.005226e+11</th>\n",
       "      <td>LINESTRING Z (1680443.328 5669799.874 0, 16804...</td>\n",
       "    </tr>\n",
       "    <tr>\n",
       "      <th>1.005226e+11</th>\n",
       "      <td>LINESTRING Z (1680451.296 5669793.831 0, 16804...</td>\n",
       "    </tr>\n",
       "    <tr>\n",
       "      <th>1.005226e+11</th>\n",
       "      <td>LINESTRING Z (1680459.263 5669787.788 0, 16804...</td>\n",
       "    </tr>\n",
       "    <tr>\n",
       "      <th>1.005227e+11</th>\n",
       "      <td>LINESTRING Z (1680467.271 5669781.803 0, 16804...</td>\n",
       "    </tr>\n",
       "    <tr>\n",
       "      <th>1.005227e+11</th>\n",
       "      <td>LINESTRING Z (1680475.694 5669776.413 0, 16804...</td>\n",
       "    </tr>\n",
       "    <tr>\n",
       "      <th>...</th>\n",
       "      <td>...</td>\n",
       "    </tr>\n",
       "    <tr>\n",
       "      <th>2.020008e+11</th>\n",
       "      <td>LINESTRING Z (1616477.032 5429332.43 0, 161634...</td>\n",
       "    </tr>\n",
       "    <tr>\n",
       "      <th>2.020008e+11</th>\n",
       "      <td>LINESTRING Z (1616467.288 5429330.182 0, 16163...</td>\n",
       "    </tr>\n",
       "    <tr>\n",
       "      <th>2.020008e+11</th>\n",
       "      <td>LINESTRING Z (1616457.544 5429327.935 0, 16163...</td>\n",
       "    </tr>\n",
       "    <tr>\n",
       "      <th>2.020008e+11</th>\n",
       "      <td>LINESTRING Z (1616435.945 5429323.553 0, 16163...</td>\n",
       "    </tr>\n",
       "    <tr>\n",
       "      <th>2.020008e+11</th>\n",
       "      <td>LINESTRING Z (1616426.083 5429321.896 0, 16163...</td>\n",
       "    </tr>\n",
       "  </tbody>\n",
       "</table>\n",
       "<p>228613 rows × 1 columns</p>\n",
       "</div>"
      ],
      "text/plain": [
       "                                                       geometry\n",
       "Unique_ID                                                      \n",
       "1.005226e+11  LINESTRING Z (1680443.328 5669799.874 0, 16804...\n",
       "1.005226e+11  LINESTRING Z (1680451.296 5669793.831 0, 16804...\n",
       "1.005226e+11  LINESTRING Z (1680459.263 5669787.788 0, 16804...\n",
       "1.005227e+11  LINESTRING Z (1680467.271 5669781.803 0, 16804...\n",
       "1.005227e+11  LINESTRING Z (1680475.694 5669776.413 0, 16804...\n",
       "...                                                         ...\n",
       "2.020008e+11  LINESTRING Z (1616477.032 5429332.43 0, 161634...\n",
       "2.020008e+11  LINESTRING Z (1616467.288 5429330.182 0, 16163...\n",
       "2.020008e+11  LINESTRING Z (1616457.544 5429327.935 0, 16163...\n",
       "2.020008e+11  LINESTRING Z (1616435.945 5429323.553 0, 16163...\n",
       "2.020008e+11  LINESTRING Z (1616426.083 5429321.896 0, 16163...\n",
       "\n",
       "[228613 rows x 1 columns]"
      ]
     },
     "execution_count": 3,
     "metadata": {},
     "output_type": "execute_result"
    }
   ],
   "source": [
    "transects = pd.concat(gpd.read_file(f).set_index(\"Unique_ID\") for f in glob(\"Data for testing/Unique_ID_transects/*.shp\"))\n",
    "transects"
   ]
  },
  {
   "cell_type": "code",
   "execution_count": 4,
   "metadata": {},
   "outputs": [
    {
     "data": {
      "text/html": [
       "<pre>✔️ 2.37 s (2024-09-04T09:48:30/2024-09-04T09:48:32)</pre>"
      ],
      "text/plain": [
       "<IPython.core.display.HTML object>"
      ]
     },
     "metadata": {},
     "output_type": "display_data"
    },
    {
     "data": {
      "text/plain": [
       "geometry\n",
       "2    228070\n",
       "3       543\n",
       "Name: count, dtype: int64"
      ]
     },
     "execution_count": 4,
     "metadata": {},
     "output_type": "execute_result"
    }
   ],
   "source": [
    "transects.geometry.apply(lambda g: len(g.coords)).value_counts()"
   ]
  },
  {
   "cell_type": "code",
   "execution_count": 5,
   "metadata": {},
   "outputs": [
    {
     "data": {
      "text/html": [
       "<pre>✔️ 3.28 s (2024-09-04T09:48:32/2024-09-04T09:48:36)</pre>"
      ],
      "text/plain": [
       "<IPython.core.display.HTML object>"
      ]
     },
     "metadata": {},
     "output_type": "display_data"
    },
    {
     "data": {
      "text/html": [
       "<div>\n",
       "<style scoped>\n",
       "    .dataframe tbody tr th:only-of-type {\n",
       "        vertical-align: middle;\n",
       "    }\n",
       "\n",
       "    .dataframe tbody tr th {\n",
       "        vertical-align: top;\n",
       "    }\n",
       "\n",
       "    .dataframe thead th {\n",
       "        text-align: right;\n",
       "    }\n",
       "</style>\n",
       "<table border=\"1\" class=\"dataframe\">\n",
       "  <thead>\n",
       "    <tr style=\"text-align: right;\">\n",
       "      <th></th>\n",
       "      <th>ShrCount</th>\n",
       "      <th>LRR</th>\n",
       "      <th>LR2</th>\n",
       "      <th>LCI</th>\n",
       "      <th>LSE</th>\n",
       "      <th>EPR</th>\n",
       "      <th>EPRunc</th>\n",
       "      <th>NSM</th>\n",
       "      <th>SCE</th>\n",
       "      <th>WLR</th>\n",
       "      <th>WR2</th>\n",
       "      <th>WCI</th>\n",
       "      <th>WSE</th>\n",
       "      <th>TCD</th>\n",
       "      <th>Region</th>\n",
       "      <th>UniqueID</th>\n",
       "      <th>Start_date</th>\n",
       "      <th>End_date</th>\n",
       "      <th>Duration</th>\n",
       "      <th>geometry</th>\n",
       "    </tr>\n",
       "  </thead>\n",
       "  <tbody>\n",
       "    <tr>\n",
       "      <th>0</th>\n",
       "      <td>13.0</td>\n",
       "      <td>-0.27</td>\n",
       "      <td>0.80</td>\n",
       "      <td>0.07</td>\n",
       "      <td>3.20</td>\n",
       "      <td>-0.27</td>\n",
       "      <td>0.05</td>\n",
       "      <td>-19.30</td>\n",
       "      <td>24.84</td>\n",
       "      <td>-0.23</td>\n",
       "      <td>0.65</td>\n",
       "      <td>0.09</td>\n",
       "      <td>1.37</td>\n",
       "      <td>4015.900000</td>\n",
       "      <td>Waikato</td>\n",
       "      <td>1.005336e+11</td>\n",
       "      <td>1950-04-01</td>\n",
       "      <td>2022-02-15</td>\n",
       "      <td>71</td>\n",
       "      <td>POINT (1740823.984 5718945.283)</td>\n",
       "    </tr>\n",
       "    <tr>\n",
       "      <th>1</th>\n",
       "      <td>9.0</td>\n",
       "      <td>0.58</td>\n",
       "      <td>0.91</td>\n",
       "      <td>0.13</td>\n",
       "      <td>5.14</td>\n",
       "      <td>0.56</td>\n",
       "      <td>0.07</td>\n",
       "      <td>39.42</td>\n",
       "      <td>39.42</td>\n",
       "      <td>0.55</td>\n",
       "      <td>0.93</td>\n",
       "      <td>0.10</td>\n",
       "      <td>1.14</td>\n",
       "      <td>44129.150000</td>\n",
       "      <td>Tasman</td>\n",
       "      <td>2.000050e+11</td>\n",
       "      <td>1950-10-11</td>\n",
       "      <td>2021-03-13</td>\n",
       "      <td>70</td>\n",
       "      <td>POINT (1573804.234 5506243.949)</td>\n",
       "    </tr>\n",
       "    <tr>\n",
       "      <th>2</th>\n",
       "      <td>13.0</td>\n",
       "      <td>-0.16</td>\n",
       "      <td>0.07</td>\n",
       "      <td>0.32</td>\n",
       "      <td>16.77</td>\n",
       "      <td>-0.07</td>\n",
       "      <td>0.06</td>\n",
       "      <td>-5.38</td>\n",
       "      <td>44.09</td>\n",
       "      <td>-0.19</td>\n",
       "      <td>0.08</td>\n",
       "      <td>0.34</td>\n",
       "      <td>4.94</td>\n",
       "      <td>7410.848139</td>\n",
       "      <td>Tasman</td>\n",
       "      <td>2.010001e+11</td>\n",
       "      <td>1940-02-22</td>\n",
       "      <td>2020-07-01</td>\n",
       "      <td>80</td>\n",
       "      <td>POINT (1602827.257 5444493.261)</td>\n",
       "    </tr>\n",
       "    <tr>\n",
       "      <th>3</th>\n",
       "      <td>13.0</td>\n",
       "      <td>-0.22</td>\n",
       "      <td>0.13</td>\n",
       "      <td>0.30</td>\n",
       "      <td>15.96</td>\n",
       "      <td>-0.12</td>\n",
       "      <td>0.06</td>\n",
       "      <td>-9.85</td>\n",
       "      <td>44.06</td>\n",
       "      <td>-0.25</td>\n",
       "      <td>0.15</td>\n",
       "      <td>0.32</td>\n",
       "      <td>4.70</td>\n",
       "      <td>7420.848139</td>\n",
       "      <td>Tasman</td>\n",
       "      <td>2.010001e+11</td>\n",
       "      <td>1940-02-22</td>\n",
       "      <td>2020-07-01</td>\n",
       "      <td>80</td>\n",
       "      <td>POINT (1602821.392 5444501.389)</td>\n",
       "    </tr>\n",
       "    <tr>\n",
       "      <th>4</th>\n",
       "      <td>13.0</td>\n",
       "      <td>-0.26</td>\n",
       "      <td>0.19</td>\n",
       "      <td>0.28</td>\n",
       "      <td>15.15</td>\n",
       "      <td>-0.18</td>\n",
       "      <td>0.06</td>\n",
       "      <td>-14.58</td>\n",
       "      <td>44.19</td>\n",
       "      <td>-0.29</td>\n",
       "      <td>0.21</td>\n",
       "      <td>0.30</td>\n",
       "      <td>4.41</td>\n",
       "      <td>7430.848139</td>\n",
       "      <td>Tasman</td>\n",
       "      <td>2.010001e+11</td>\n",
       "      <td>1940-02-22</td>\n",
       "      <td>2020-07-01</td>\n",
       "      <td>80</td>\n",
       "      <td>POINT (1602815.442 5444509.464)</td>\n",
       "    </tr>\n",
       "    <tr>\n",
       "      <th>...</th>\n",
       "      <td>...</td>\n",
       "      <td>...</td>\n",
       "      <td>...</td>\n",
       "      <td>...</td>\n",
       "      <td>...</td>\n",
       "      <td>...</td>\n",
       "      <td>...</td>\n",
       "      <td>...</td>\n",
       "      <td>...</td>\n",
       "      <td>...</td>\n",
       "      <td>...</td>\n",
       "      <td>...</td>\n",
       "      <td>...</td>\n",
       "      <td>...</td>\n",
       "      <td>...</td>\n",
       "      <td>...</td>\n",
       "      <td>...</td>\n",
       "      <td>...</td>\n",
       "      <td>...</td>\n",
       "      <td>...</td>\n",
       "    </tr>\n",
       "    <tr>\n",
       "      <th>228608</th>\n",
       "      <td>5.0</td>\n",
       "      <td>0.01</td>\n",
       "      <td>0.05</td>\n",
       "      <td>0.08</td>\n",
       "      <td>1.81</td>\n",
       "      <td>-0.02</td>\n",
       "      <td>0.07</td>\n",
       "      <td>-1.50</td>\n",
       "      <td>3.73</td>\n",
       "      <td>0.00</td>\n",
       "      <td>0.00</td>\n",
       "      <td>0.13</td>\n",
       "      <td>0.97</td>\n",
       "      <td>3223.050000</td>\n",
       "      <td>Auckland</td>\n",
       "      <td>1.010019e+11</td>\n",
       "      <td>1961-11-02</td>\n",
       "      <td>2022-12-21</td>\n",
       "      <td>61</td>\n",
       "      <td>POINT (1784449.725 5926935.288)</td>\n",
       "    </tr>\n",
       "    <tr>\n",
       "      <th>228609</th>\n",
       "      <td>5.0</td>\n",
       "      <td>0.06</td>\n",
       "      <td>0.63</td>\n",
       "      <td>0.07</td>\n",
       "      <td>1.45</td>\n",
       "      <td>0.03</td>\n",
       "      <td>0.07</td>\n",
       "      <td>1.91</td>\n",
       "      <td>4.73</td>\n",
       "      <td>0.05</td>\n",
       "      <td>0.36</td>\n",
       "      <td>0.09</td>\n",
       "      <td>0.71</td>\n",
       "      <td>3233.050000</td>\n",
       "      <td>Auckland</td>\n",
       "      <td>1.010019e+11</td>\n",
       "      <td>1961-11-02</td>\n",
       "      <td>2022-12-21</td>\n",
       "      <td>61</td>\n",
       "      <td>POINT (1784439.931 5926939.809)</td>\n",
       "    </tr>\n",
       "    <tr>\n",
       "      <th>228610</th>\n",
       "      <td>5.0</td>\n",
       "      <td>0.06</td>\n",
       "      <td>0.64</td>\n",
       "      <td>0.06</td>\n",
       "      <td>1.27</td>\n",
       "      <td>0.03</td>\n",
       "      <td>0.07</td>\n",
       "      <td>1.74</td>\n",
       "      <td>4.23</td>\n",
       "      <td>0.07</td>\n",
       "      <td>0.46</td>\n",
       "      <td>0.10</td>\n",
       "      <td>0.74</td>\n",
       "      <td>3243.050000</td>\n",
       "      <td>Auckland</td>\n",
       "      <td>1.010019e+11</td>\n",
       "      <td>1961-11-02</td>\n",
       "      <td>2022-12-21</td>\n",
       "      <td>61</td>\n",
       "      <td>POINT (1784431.172 5926944.695)</td>\n",
       "    </tr>\n",
       "    <tr>\n",
       "      <th>228611</th>\n",
       "      <td>5.0</td>\n",
       "      <td>0.03</td>\n",
       "      <td>0.34</td>\n",
       "      <td>0.06</td>\n",
       "      <td>1.26</td>\n",
       "      <td>0.00</td>\n",
       "      <td>0.07</td>\n",
       "      <td>0.18</td>\n",
       "      <td>2.73</td>\n",
       "      <td>0.04</td>\n",
       "      <td>0.22</td>\n",
       "      <td>0.09</td>\n",
       "      <td>0.70</td>\n",
       "      <td>3253.050000</td>\n",
       "      <td>Auckland</td>\n",
       "      <td>1.010019e+11</td>\n",
       "      <td>1961-11-02</td>\n",
       "      <td>2022-12-21</td>\n",
       "      <td>61</td>\n",
       "      <td>POINT (1784423.016 5926950.491)</td>\n",
       "    </tr>\n",
       "    <tr>\n",
       "      <th>228612</th>\n",
       "      <td>5.0</td>\n",
       "      <td>0.04</td>\n",
       "      <td>0.67</td>\n",
       "      <td>0.04</td>\n",
       "      <td>0.87</td>\n",
       "      <td>0.03</td>\n",
       "      <td>0.07</td>\n",
       "      <td>1.54</td>\n",
       "      <td>3.06</td>\n",
       "      <td>0.03</td>\n",
       "      <td>0.18</td>\n",
       "      <td>0.08</td>\n",
       "      <td>0.59</td>\n",
       "      <td>3263.050000</td>\n",
       "      <td>Auckland</td>\n",
       "      <td>1.010019e+11</td>\n",
       "      <td>1961-11-02</td>\n",
       "      <td>2022-12-21</td>\n",
       "      <td>61</td>\n",
       "      <td>POINT (1784415.426 5926957.131)</td>\n",
       "    </tr>\n",
       "  </tbody>\n",
       "</table>\n",
       "<p>228613 rows × 20 columns</p>\n",
       "</div>"
      ],
      "text/plain": [
       "        ShrCount   LRR   LR2   LCI    LSE   EPR  EPRunc    NSM    SCE   WLR  \\\n",
       "0           13.0 -0.27  0.80  0.07   3.20 -0.27    0.05 -19.30  24.84 -0.23   \n",
       "1            9.0  0.58  0.91  0.13   5.14  0.56    0.07  39.42  39.42  0.55   \n",
       "2           13.0 -0.16  0.07  0.32  16.77 -0.07    0.06  -5.38  44.09 -0.19   \n",
       "3           13.0 -0.22  0.13  0.30  15.96 -0.12    0.06  -9.85  44.06 -0.25   \n",
       "4           13.0 -0.26  0.19  0.28  15.15 -0.18    0.06 -14.58  44.19 -0.29   \n",
       "...          ...   ...   ...   ...    ...   ...     ...    ...    ...   ...   \n",
       "228608       5.0  0.01  0.05  0.08   1.81 -0.02    0.07  -1.50   3.73  0.00   \n",
       "228609       5.0  0.06  0.63  0.07   1.45  0.03    0.07   1.91   4.73  0.05   \n",
       "228610       5.0  0.06  0.64  0.06   1.27  0.03    0.07   1.74   4.23  0.07   \n",
       "228611       5.0  0.03  0.34  0.06   1.26  0.00    0.07   0.18   2.73  0.04   \n",
       "228612       5.0  0.04  0.67  0.04   0.87  0.03    0.07   1.54   3.06  0.03   \n",
       "\n",
       "         WR2   WCI   WSE           TCD    Region      UniqueID Start_date  \\\n",
       "0       0.65  0.09  1.37   4015.900000   Waikato  1.005336e+11 1950-04-01   \n",
       "1       0.93  0.10  1.14  44129.150000    Tasman  2.000050e+11 1950-10-11   \n",
       "2       0.08  0.34  4.94   7410.848139    Tasman  2.010001e+11 1940-02-22   \n",
       "3       0.15  0.32  4.70   7420.848139    Tasman  2.010001e+11 1940-02-22   \n",
       "4       0.21  0.30  4.41   7430.848139    Tasman  2.010001e+11 1940-02-22   \n",
       "...      ...   ...   ...           ...       ...           ...        ...   \n",
       "228608  0.00  0.13  0.97   3223.050000  Auckland  1.010019e+11 1961-11-02   \n",
       "228609  0.36  0.09  0.71   3233.050000  Auckland  1.010019e+11 1961-11-02   \n",
       "228610  0.46  0.10  0.74   3243.050000  Auckland  1.010019e+11 1961-11-02   \n",
       "228611  0.22  0.09  0.70   3253.050000  Auckland  1.010019e+11 1961-11-02   \n",
       "228612  0.18  0.08  0.59   3263.050000  Auckland  1.010019e+11 1961-11-02   \n",
       "\n",
       "         End_date  Duration                         geometry  \n",
       "0      2022-02-15        71  POINT (1740823.984 5718945.283)  \n",
       "1      2021-03-13        70  POINT (1573804.234 5506243.949)  \n",
       "2      2020-07-01        80  POINT (1602827.257 5444493.261)  \n",
       "3      2020-07-01        80  POINT (1602821.392 5444501.389)  \n",
       "4      2020-07-01        80  POINT (1602815.442 5444509.464)  \n",
       "...           ...       ...                              ...  \n",
       "228608 2022-12-21        61  POINT (1784449.725 5926935.288)  \n",
       "228609 2022-12-21        61  POINT (1784439.931 5926939.809)  \n",
       "228610 2022-12-21        61  POINT (1784431.172 5926944.695)  \n",
       "228611 2022-12-21        61  POINT (1784423.016 5926950.491)  \n",
       "228612 2022-12-21        61  POINT (1784415.426 5926957.131)  \n",
       "\n",
       "[228613 rows x 20 columns]"
      ]
     },
     "execution_count": 5,
     "metadata": {},
     "output_type": "execute_result"
    }
   ],
   "source": [
    "rates = gpd.read_file(\"kx-nzccd-coastal-change-rates-SHP.zip\")\n",
    "rates"
   ]
  },
  {
   "cell_type": "code",
   "execution_count": 6,
   "metadata": {},
   "outputs": [
    {
     "data": {
      "text/html": [
       "<pre>✔️ 17.9 ms (2024-09-04T09:48:36/2024-09-04T09:48:36)</pre>"
      ],
      "text/plain": [
       "<IPython.core.display.HTML object>"
      ]
     },
     "metadata": {},
     "output_type": "display_data"
    },
    {
     "data": {
      "text/plain": [
       "Region\n",
       "Northland      37274\n",
       "Canterbury     21881\n",
       "WestCoast      20990\n",
       "Taranaki       17050\n",
       "Waikato        16589\n",
       "Otago          15425\n",
       "BayOfPlenty    13902\n",
       "HawkesBay      13494\n",
       "Southland      12382\n",
       "Auckland       11494\n",
       "Wellington     11154\n",
       "Manawatu       10443\n",
       "Tasman         10102\n",
       "Gisborne        8314\n",
       "Marlborough     5083\n",
       "Nelson          3036\n",
       "Name: count, dtype: int64"
      ]
     },
     "execution_count": 6,
     "metadata": {},
     "output_type": "execute_result"
    }
   ],
   "source": [
    "rates.Region.value_counts()"
   ]
  },
  {
   "cell_type": "code",
   "execution_count": 42,
   "metadata": {},
   "outputs": [
    {
     "data": {
      "text/html": [
       "<pre>✔️ 4 min 41 s (2024-09-04T10:15:07/2024-09-04T10:19:48)</pre>"
      ],
      "text/plain": [
       "<IPython.core.display.HTML object>"
      ]
     },
     "metadata": {},
     "output_type": "display_data"
    },
    {
     "name": "stderr",
     "output_type": "stream",
     "text": [
      "  0%|          | 0/228613 [00:00<?, ?it/s]"
     ]
    },
    {
     "name": "stdout",
     "output_type": "stream",
     "text": [
      "100260096672.0 has only 2 shorelines\n"
     ]
    },
    {
     "name": "stderr",
     "output_type": "stream",
     "text": [
      "  4%|▎         | 8142/228613 [00:13<03:51, 952.95it/s] "
     ]
    },
    {
     "name": "stdout",
     "output_type": "stream",
     "text": [
      "100191251944.0 has only 2 shorelines\n"
     ]
    },
    {
     "name": "stderr",
     "output_type": "stream",
     "text": [
      "  4%|▎         | 8301/228613 [00:16<10:46, 340.58it/s]"
     ]
    },
    {
     "name": "stdout",
     "output_type": "stream",
     "text": [
      "100586128441.0 has only 2 shorelines\n",
      "100586130639.0 has only 2 shorelines\n"
     ]
    },
    {
     "name": "stderr",
     "output_type": "stream",
     "text": [
      " 11%|█         | 25501/228613 [00:35<02:52, 1174.53it/s]"
     ]
    },
    {
     "name": "stdout",
     "output_type": "stream",
     "text": [
      "100388183085.0 has only 2 shorelines\n"
     ]
    },
    {
     "name": "stderr",
     "output_type": "stream",
     "text": [
      " 20%|█▉        | 44901/228613 [00:58<03:36, 848.26it/s] "
     ]
    },
    {
     "name": "stdout",
     "output_type": "stream",
     "text": [
      "100500165830.0 has only 2 shorelines\n"
     ]
    },
    {
     "name": "stderr",
     "output_type": "stream",
     "text": [
      " 21%|██▏       | 49001/228613 [01:02<06:15, 478.58it/s] "
     ]
    },
    {
     "name": "stdout",
     "output_type": "stream",
     "text": [
      "100496838754.0 has only 2 shorelines\n"
     ]
    },
    {
     "name": "stderr",
     "output_type": "stream",
     "text": [
      " 27%|██▋       | 61501/228613 [01:17<03:03, 912.18it/s] "
     ]
    },
    {
     "name": "stdout",
     "output_type": "stream",
     "text": [
      "100127952623.0 has only 2 shorelines\n"
     ]
    },
    {
     "name": "stderr",
     "output_type": "stream",
     "text": [
      " 28%|██▊       | 63858/228613 [01:20<03:34, 767.31it/s] "
     ]
    },
    {
     "name": "stdout",
     "output_type": "stream",
     "text": [
      "100792148508.0 has only 2 shorelines\n"
     ]
    },
    {
     "name": "stderr",
     "output_type": "stream",
     "text": [
      " 30%|██▉       | 68301/228613 [01:26<02:38, 1008.29it/s]"
     ]
    },
    {
     "name": "stdout",
     "output_type": "stream",
     "text": [
      "100789292355.0 has only 2 shorelines\n"
     ]
    },
    {
     "name": "stderr",
     "output_type": "stream",
     "text": [
      " 32%|███▏      | 73301/228613 [01:34<04:14, 610.22it/s] "
     ]
    },
    {
     "name": "stdout",
     "output_type": "stream",
     "text": [
      "100789991912.0 has only 2 shorelines\n"
     ]
    },
    {
     "name": "stderr",
     "output_type": "stream",
     "text": [
      " 36%|███▌      | 81809/228613 [01:43<02:42, 905.35it/s] "
     ]
    },
    {
     "name": "stdout",
     "output_type": "stream",
     "text": [
      "100040911173.0 has only 2 shorelines\n"
     ]
    },
    {
     "name": "stderr",
     "output_type": "stream",
     "text": [
      " 36%|███▌      | 82001/228613 [01:44<03:52, 630.26it/s]"
     ]
    },
    {
     "name": "stdout",
     "output_type": "stream",
     "text": [
      "100046300028.0 has only 2 shorelines\n"
     ]
    },
    {
     "name": "stderr",
     "output_type": "stream",
     "text": [
      " 37%|███▋      | 83801/228613 [01:47<04:02, 597.67it/s]"
     ]
    },
    {
     "name": "stdout",
     "output_type": "stream",
     "text": [
      "100054260026.0 has only 2 shorelines\n"
     ]
    },
    {
     "name": "stderr",
     "output_type": "stream",
     "text": [
      " 44%|████▍     | 101401/228613 [02:07<04:13, 502.79it/s] "
     ]
    },
    {
     "name": "stdout",
     "output_type": "stream",
     "text": [
      "100530318598.0 has only 2 shorelines\n"
     ]
    },
    {
     "name": "stderr",
     "output_type": "stream",
     "text": [
      " 44%|████▍     | 101501/228613 [02:07<04:40, 452.93it/s]"
     ]
    },
    {
     "name": "stdout",
     "output_type": "stream",
     "text": [
      "100519527017.0 has only 2 shorelines\n"
     ]
    },
    {
     "name": "stderr",
     "output_type": "stream",
     "text": [
      " 47%|████▋     | 106801/228613 [02:14<03:56, 514.18it/s] "
     ]
    },
    {
     "name": "stdout",
     "output_type": "stream",
     "text": [
      "100519280084.0 has only 2 shorelines\n"
     ]
    },
    {
     "name": "stderr",
     "output_type": "stream",
     "text": [
      " 52%|█████▏    | 120001/228613 [02:29<01:33, 1162.94it/s]"
     ]
    },
    {
     "name": "stdout",
     "output_type": "stream",
     "text": [
      "100535645017.0 has only 2 shorelines\n",
      "100268354101.0 has only 2 shorelines\n"
     ]
    },
    {
     "name": "stderr",
     "output_type": "stream",
     "text": [
      " 53%|█████▎    | 122101/228613 [02:32<02:04, 853.75it/s] "
     ]
    },
    {
     "name": "stdout",
     "output_type": "stream",
     "text": [
      "100467836937.0 has only 2 shorelines\n",
      "100467837974.0 has only 2 shorelines\n",
      "100467838995.0 has only 2 shorelines\n",
      "100467840004.0 has only 2 shorelines\n",
      "100467841007.0 has only 2 shorelines\n"
     ]
    },
    {
     "name": "stderr",
     "output_type": "stream",
     "text": [
      " 53%|█████▎    | 122301/228613 [02:33<02:34, 689.71it/s]"
     ]
    },
    {
     "name": "stdout",
     "output_type": "stream",
     "text": [
      "100467842008.0 has only 2 shorelines\n",
      "100467843010.0 has only 2 shorelines\n"
     ]
    },
    {
     "name": "stderr",
     "output_type": "stream",
     "text": [
      " 54%|█████▎    | 122701/228613 [02:34<02:33, 689.13it/s]"
     ]
    },
    {
     "name": "stdout",
     "output_type": "stream",
     "text": [
      "100467823055.0 has only 2 shorelines\n",
      "100467824082.0 has only 2 shorelines\n"
     ]
    },
    {
     "name": "stderr",
     "output_type": "stream",
     "text": [
      " 55%|█████▌    | 125801/228613 [02:38<02:34, 664.63it/s]"
     ]
    },
    {
     "name": "stdout",
     "output_type": "stream",
     "text": [
      "100495183848.0 has only 1 shorelines\n",
      "100495184849.0 has only 2 shorelines\n",
      "100495185849.0 has only 2 shorelines\n",
      "100495186849.0 has only 2 shorelines\n",
      "100495187849.0 has only 2 shorelines\n",
      "100495188849.0 has only 2 shorelines\n",
      "100495189849.0 has only 2 shorelines\n",
      "100495190850.0 has only 2 shorelines\n",
      "100495191851.0 has only 2 shorelines\n",
      "100495192851.0 has only 2 shorelines\n",
      "100495193852.0 has only 2 shorelines\n",
      "100495194853.0 has only 2 shorelines\n",
      "100495195853.0 has only 2 shorelines\n",
      "100495196854.0 has only 2 shorelines\n",
      "100494792931.0 has only 2 shorelines\n",
      "100495197854.0 has only 2 shorelines\n",
      "100495198854.0 has only 2 shorelines\n",
      "100495199854.0 has only 2 shorelines\n",
      "100495200854.0 has only 2 shorelines\n",
      "100495201854.0 has only 2 shorelines\n",
      "100495202854.0 has only 2 shorelines\n"
     ]
    },
    {
     "name": "stderr",
     "output_type": "stream",
     "text": [
      " 56%|█████▌    | 127901/228613 [02:40<02:16, 735.30it/s]"
     ]
    },
    {
     "name": "stdout",
     "output_type": "stream",
     "text": [
      "100495815347.0 has only 2 shorelines\n",
      "100495816347.0 has only 2 shorelines\n"
     ]
    },
    {
     "name": "stderr",
     "output_type": "stream",
     "text": [
      " 56%|█████▋    | 128601/228613 [02:41<02:12, 755.06it/s]"
     ]
    },
    {
     "name": "stdout",
     "output_type": "stream",
     "text": [
      "100465086737.0 has only 2 shorelines\n",
      "100495817347.0 has only 2 shorelines\n"
     ]
    },
    {
     "name": "stderr",
     "output_type": "stream",
     "text": [
      " 57%|█████▋    | 130201/228613 [02:42<01:32, 1066.83it/s]"
     ]
    },
    {
     "name": "stdout",
     "output_type": "stream",
     "text": [
      "100495818347.0 has only 2 shorelines\n",
      "100495819347.0 has only 2 shorelines\n",
      "100495820348.0 has only 2 shorelines\n",
      "100495821348.0 has only 2 shorelines\n",
      "100495823348.0 has only 2 shorelines\n",
      "100495824348.0 has only 2 shorelines\n"
     ]
    },
    {
     "name": "stderr",
     "output_type": "stream",
     "text": [
      " 57%|█████▋    | 130501/228613 [02:43<01:31, 1074.03it/s]"
     ]
    },
    {
     "name": "stdout",
     "output_type": "stream",
     "text": [
      "100466328729.0 has only 2 shorelines\n"
     ]
    },
    {
     "name": "stderr",
     "output_type": "stream",
     "text": [
      " 61%|██████    | 138501/228613 [02:53<01:59, 754.18it/s] "
     ]
    },
    {
     "name": "stdout",
     "output_type": "stream",
     "text": [
      "200520123537.0 has only 2 shorelines\n"
     ]
    },
    {
     "name": "stderr",
     "output_type": "stream",
     "text": [
      " 62%|██████▏   | 140801/228613 [02:56<02:07, 690.25it/s]"
     ]
    },
    {
     "name": "stdout",
     "output_type": "stream",
     "text": [
      "200504484631.0 has only 2 shorelines\n"
     ]
    },
    {
     "name": "stderr",
     "output_type": "stream",
     "text": [
      " 63%|██████▎   | 144379/228613 [02:59<01:46, 792.91it/s] "
     ]
    },
    {
     "name": "stdout",
     "output_type": "stream",
     "text": [
      "200517070651.0 has only 2 shorelines\n"
     ]
    },
    {
     "name": "stderr",
     "output_type": "stream",
     "text": [
      " 70%|███████   | 160101/228613 [03:18<01:23, 820.62it/s] "
     ]
    },
    {
     "name": "stdout",
     "output_type": "stream",
     "text": [
      "200021273438.0 has only 2 shorelines\n"
     ]
    },
    {
     "name": "stderr",
     "output_type": "stream",
     "text": [
      " 71%|███████▏  | 162901/228613 [03:22<01:16, 857.85it/s]"
     ]
    },
    {
     "name": "stdout",
     "output_type": "stream",
     "text": [
      "200409446488.0 has only 2 shorelines\n"
     ]
    },
    {
     "name": "stderr",
     "output_type": "stream",
     "text": [
      " 75%|███████▍  | 171301/228613 [03:31<00:53, 1075.16it/s]"
     ]
    },
    {
     "name": "stdout",
     "output_type": "stream",
     "text": [
      "200343205950.0 has only 2 shorelines\n"
     ]
    },
    {
     "name": "stderr",
     "output_type": "stream",
     "text": [
      " 81%|████████  | 184101/228613 [03:48<01:05, 674.50it/s] "
     ]
    },
    {
     "name": "stdout",
     "output_type": "stream",
     "text": [
      "200262081254.0 has only 2 shorelines\n"
     ]
    },
    {
     "name": "stderr",
     "output_type": "stream",
     "text": [
      " 91%|█████████ | 207301/228613 [04:16<00:24, 875.70it/s] "
     ]
    },
    {
     "name": "stdout",
     "output_type": "stream",
     "text": [
      "200188395856.0 has only 2 shorelines\n",
      "200213355697.0 has only 2 shorelines\n"
     ]
    },
    {
     "name": "stderr",
     "output_type": "stream",
     "text": [
      " 92%|█████████▏| 209401/228613 [04:19<00:23, 806.66it/s]"
     ]
    },
    {
     "name": "stdout",
     "output_type": "stream",
     "text": [
      "200189193058.0 has only 2 shorelines\n"
     ]
    },
    {
     "name": "stderr",
     "output_type": "stream",
     "text": [
      " 93%|█████████▎| 212801/228613 [04:22<00:13, 1134.29it/s]"
     ]
    },
    {
     "name": "stdout",
     "output_type": "stream",
     "text": [
      "200243146474.0 has only 2 shorelines\n"
     ]
    },
    {
     "name": "stderr",
     "output_type": "stream",
     "text": [
      " 95%|█████████▌| 218101/228613 [04:30<00:15, 657.21it/s] "
     ]
    },
    {
     "name": "stdout",
     "output_type": "stream",
     "text": [
      "200236244789.0 has only 2 shorelines\n"
     ]
    },
    {
     "name": "stderr",
     "output_type": "stream",
     "text": [
      " 96%|█████████▌| 218501/228613 [04:30<00:14, 720.22it/s]"
     ]
    },
    {
     "name": "stdout",
     "output_type": "stream",
     "text": [
      "101011522100.0 has only 2 shorelines\n"
     ]
    },
    {
     "name": "stderr",
     "output_type": "stream",
     "text": [
      " 96%|█████████▋| 220501/228613 [04:33<00:09, 860.39it/s]"
     ]
    },
    {
     "name": "stdout",
     "output_type": "stream",
     "text": [
      "200247583487.0 has only 2 shorelines\n",
      "101011595606.0 has only 2 shorelines\n"
     ]
    },
    {
     "name": "stderr",
     "output_type": "stream",
     "text": [
      "100%|██████████| 228613/228613 [04:38<00:00, 820.76it/s] \n"
     ]
    },
    {
     "data": {
      "text/html": [
       "<div>\n",
       "<style scoped>\n",
       "    .dataframe tbody tr th:only-of-type {\n",
       "        vertical-align: middle;\n",
       "    }\n",
       "\n",
       "    .dataframe tbody tr th {\n",
       "        vertical-align: top;\n",
       "    }\n",
       "\n",
       "    .dataframe thead th {\n",
       "        text-align: right;\n",
       "    }\n",
       "</style>\n",
       "<table border=\"1\" class=\"dataframe\">\n",
       "  <thead>\n",
       "    <tr style=\"text-align: right;\">\n",
       "      <th></th>\n",
       "      <th>UniqueID</th>\n",
       "      <th>Region</th>\n",
       "      <th>Start_date</th>\n",
       "      <th>End_date</th>\n",
       "      <th>Duration</th>\n",
       "      <th>ShrCount</th>\n",
       "      <th>NSM</th>\n",
       "      <th>SCE</th>\n",
       "      <th>EPR</th>\n",
       "      <th>EPRunc</th>\n",
       "      <th>LRR</th>\n",
       "      <th>LRI</th>\n",
       "      <th>LCI</th>\n",
       "      <th>LSE</th>\n",
       "      <th>LR2</th>\n",
       "      <th>WLR</th>\n",
       "      <th>WLI</th>\n",
       "      <th>WCI</th>\n",
       "      <th>WSE</th>\n",
       "      <th>WR2</th>\n",
       "      <th>geometry</th>\n",
       "      <th>Dates</th>\n",
       "      <th>Distances</th>\n",
       "    </tr>\n",
       "  </thead>\n",
       "  <tbody>\n",
       "    <tr>\n",
       "      <th>0</th>\n",
       "      <td>1.005226e+11</td>\n",
       "      <td>Taranaki</td>\n",
       "      <td>1970-02-10</td>\n",
       "      <td>2022-01-14</td>\n",
       "      <td>52.0</td>\n",
       "      <td>5.0</td>\n",
       "      <td>15.55</td>\n",
       "      <td>16.84</td>\n",
       "      <td>0.30</td>\n",
       "      <td>0.2</td>\n",
       "      <td>0.24</td>\n",
       "      <td>254.74</td>\n",
       "      <td>0.37</td>\n",
       "      <td>6.55</td>\n",
       "      <td>0.43</td>\n",
       "      <td>0.28</td>\n",
       "      <td>251.99</td>\n",
       "      <td>0.64</td>\n",
       "      <td>2.10</td>\n",
       "      <td>0.26</td>\n",
       "      <td>LINESTRING Z (1680443.328 5669799.874 0, 16804...</td>\n",
       "      <td>[1970-02-10, 2000-01-14, 2011-03-11, 2016-10-3...</td>\n",
       "      <td>[255.9, 263.3, 254.61, 268.75, 271.45]</td>\n",
       "    </tr>\n",
       "    <tr>\n",
       "      <th>1</th>\n",
       "      <td>1.005226e+11</td>\n",
       "      <td>Taranaki</td>\n",
       "      <td>1970-02-10</td>\n",
       "      <td>2022-01-14</td>\n",
       "      <td>52.0</td>\n",
       "      <td>5.0</td>\n",
       "      <td>12.63</td>\n",
       "      <td>18.04</td>\n",
       "      <td>0.24</td>\n",
       "      <td>0.2</td>\n",
       "      <td>0.13</td>\n",
       "      <td>256.22</td>\n",
       "      <td>0.41</td>\n",
       "      <td>7.16</td>\n",
       "      <td>0.16</td>\n",
       "      <td>0.11</td>\n",
       "      <td>254.58</td>\n",
       "      <td>0.55</td>\n",
       "      <td>1.78</td>\n",
       "      <td>0.07</td>\n",
       "      <td>LINESTRING Z (1680451.296 5669793.831 0, 16804...</td>\n",
       "      <td>[1970-02-10, 2000-01-14, 2011-03-11, 2016-10-3...</td>\n",
       "      <td>[257.08, 263.2, 251.66, 261.86, 269.71]</td>\n",
       "    </tr>\n",
       "    <tr>\n",
       "      <th>2</th>\n",
       "      <td>1.005226e+11</td>\n",
       "      <td>Taranaki</td>\n",
       "      <td>1970-02-10</td>\n",
       "      <td>2022-01-14</td>\n",
       "      <td>52.0</td>\n",
       "      <td>5.0</td>\n",
       "      <td>12.84</td>\n",
       "      <td>18.47</td>\n",
       "      <td>0.25</td>\n",
       "      <td>0.2</td>\n",
       "      <td>0.14</td>\n",
       "      <td>255.97</td>\n",
       "      <td>0.41</td>\n",
       "      <td>7.25</td>\n",
       "      <td>0.17</td>\n",
       "      <td>0.13</td>\n",
       "      <td>254.12</td>\n",
       "      <td>0.58</td>\n",
       "      <td>1.88</td>\n",
       "      <td>0.08</td>\n",
       "      <td>LINESTRING Z (1680459.263 5669787.788 0, 16804...</td>\n",
       "      <td>[1970-02-10, 2000-01-14, 2011-03-11, 2016-10-3...</td>\n",
       "      <td>[257.06, 262.65, 251.43, 262.53, 269.9]</td>\n",
       "    </tr>\n",
       "    <tr>\n",
       "      <th>3</th>\n",
       "      <td>1.005227e+11</td>\n",
       "      <td>Taranaki</td>\n",
       "      <td>1970-02-10</td>\n",
       "      <td>2022-01-14</td>\n",
       "      <td>52.0</td>\n",
       "      <td>5.0</td>\n",
       "      <td>13.68</td>\n",
       "      <td>20.25</td>\n",
       "      <td>0.26</td>\n",
       "      <td>0.2</td>\n",
       "      <td>0.17</td>\n",
       "      <td>256.36</td>\n",
       "      <td>0.45</td>\n",
       "      <td>7.98</td>\n",
       "      <td>0.20</td>\n",
       "      <td>0.20</td>\n",
       "      <td>253.60</td>\n",
       "      <td>0.72</td>\n",
       "      <td>2.35</td>\n",
       "      <td>0.12</td>\n",
       "      <td>LINESTRING Z (1680467.271 5669781.803 0, 16804...</td>\n",
       "      <td>[1970-02-10, 2000-01-14, 2011-03-11, 2016-10-3...</td>\n",
       "      <td>[258.21, 262.32, 251.63, 266.53, 271.88]</td>\n",
       "    </tr>\n",
       "    <tr>\n",
       "      <th>4</th>\n",
       "      <td>1.005227e+11</td>\n",
       "      <td>Taranaki</td>\n",
       "      <td>1970-02-10</td>\n",
       "      <td>2022-01-14</td>\n",
       "      <td>52.0</td>\n",
       "      <td>5.0</td>\n",
       "      <td>15.01</td>\n",
       "      <td>21.27</td>\n",
       "      <td>0.29</td>\n",
       "      <td>0.2</td>\n",
       "      <td>0.19</td>\n",
       "      <td>256.26</td>\n",
       "      <td>0.47</td>\n",
       "      <td>8.25</td>\n",
       "      <td>0.23</td>\n",
       "      <td>0.21</td>\n",
       "      <td>253.57</td>\n",
       "      <td>0.73</td>\n",
       "      <td>2.37</td>\n",
       "      <td>0.13</td>\n",
       "      <td>LINESTRING Z (1680475.694 5669776.413 0, 16804...</td>\n",
       "      <td>[1970-02-10, 2000-01-14, 2011-03-11, 2016-10-3...</td>\n",
       "      <td>[258.36, 262.33, 252.1, 267.13, 273.36]</td>\n",
       "    </tr>\n",
       "    <tr>\n",
       "      <th>...</th>\n",
       "      <td>...</td>\n",
       "      <td>...</td>\n",
       "      <td>...</td>\n",
       "      <td>...</td>\n",
       "      <td>...</td>\n",
       "      <td>...</td>\n",
       "      <td>...</td>\n",
       "      <td>...</td>\n",
       "      <td>...</td>\n",
       "      <td>...</td>\n",
       "      <td>...</td>\n",
       "      <td>...</td>\n",
       "      <td>...</td>\n",
       "      <td>...</td>\n",
       "      <td>...</td>\n",
       "      <td>...</td>\n",
       "      <td>...</td>\n",
       "      <td>...</td>\n",
       "      <td>...</td>\n",
       "      <td>...</td>\n",
       "      <td>...</td>\n",
       "      <td>...</td>\n",
       "      <td>...</td>\n",
       "    </tr>\n",
       "    <tr>\n",
       "      <th>228608</th>\n",
       "      <td>2.020008e+11</td>\n",
       "      <td>Tasman</td>\n",
       "      <td>1969-09-22</td>\n",
       "      <td>2021-03-18</td>\n",
       "      <td>51.0</td>\n",
       "      <td>7.0</td>\n",
       "      <td>55.75</td>\n",
       "      <td>280.29</td>\n",
       "      <td>1.08</td>\n",
       "      <td>0.1</td>\n",
       "      <td>-1.70</td>\n",
       "      <td>153.41</td>\n",
       "      <td>3.44</td>\n",
       "      <td>97.44</td>\n",
       "      <td>0.17</td>\n",
       "      <td>-1.98</td>\n",
       "      <td>170.29</td>\n",
       "      <td>3.08</td>\n",
       "      <td>23.83</td>\n",
       "      <td>0.25</td>\n",
       "      <td>LINESTRING Z (1616477.032 5429332.43 0, 161634...</td>\n",
       "      <td>[1969-09-22, 1969-09-22, 1981-01-11, 2010-02-1...</td>\n",
       "      <td>[314.21, 33.91, 68.63, 135.44, 78.3, 51.05, 58...</td>\n",
       "    </tr>\n",
       "    <tr>\n",
       "      <th>228609</th>\n",
       "      <td>2.020008e+11</td>\n",
       "      <td>Tasman</td>\n",
       "      <td>1969-09-22</td>\n",
       "      <td>2021-03-18</td>\n",
       "      <td>51.0</td>\n",
       "      <td>8.0</td>\n",
       "      <td>50.29</td>\n",
       "      <td>306.31</td>\n",
       "      <td>0.98</td>\n",
       "      <td>0.1</td>\n",
       "      <td>-1.58</td>\n",
       "      <td>145.42</td>\n",
       "      <td>3.53</td>\n",
       "      <td>104.92</td>\n",
       "      <td>0.11</td>\n",
       "      <td>-2.28</td>\n",
       "      <td>180.71</td>\n",
       "      <td>3.58</td>\n",
       "      <td>28.75</td>\n",
       "      <td>0.20</td>\n",
       "      <td>LINESTRING Z (1616467.288 5429330.182 0, 16163...</td>\n",
       "      <td>[1969-09-22, 1969-09-22, 1981-01-11, 2006-12-1...</td>\n",
       "      <td>[316.12, 9.81, 46.87, 178.64, 116.03, 52.22, 3...</td>\n",
       "    </tr>\n",
       "    <tr>\n",
       "      <th>228610</th>\n",
       "      <td>2.020008e+11</td>\n",
       "      <td>Tasman</td>\n",
       "      <td>1969-09-22</td>\n",
       "      <td>2021-03-18</td>\n",
       "      <td>51.0</td>\n",
       "      <td>7.0</td>\n",
       "      <td>42.42</td>\n",
       "      <td>55.67</td>\n",
       "      <td>0.82</td>\n",
       "      <td>0.1</td>\n",
       "      <td>-3.75</td>\n",
       "      <td>218.78</td>\n",
       "      <td>3.61</td>\n",
       "      <td>86.99</td>\n",
       "      <td>0.47</td>\n",
       "      <td>-4.64</td>\n",
       "      <td>265.15</td>\n",
       "      <td>3.25</td>\n",
       "      <td>20.37</td>\n",
       "      <td>0.62</td>\n",
       "      <td>LINESTRING Z (1616457.544 5429327.935 0, 16163...</td>\n",
       "      <td>[1969-09-22, 1981-01-11, 2006-12-14, 2010-02-1...</td>\n",
       "      <td>[318.95, 24.48, 135.29, 95.8, 31.5, 16.5, 30.71]</td>\n",
       "    </tr>\n",
       "    <tr>\n",
       "      <th>228611</th>\n",
       "      <td>2.020008e+11</td>\n",
       "      <td>Tasman</td>\n",
       "      <td>1969-09-22</td>\n",
       "      <td>2021-03-18</td>\n",
       "      <td>51.0</td>\n",
       "      <td>8.0</td>\n",
       "      <td>38.94</td>\n",
       "      <td>302.58</td>\n",
       "      <td>0.76</td>\n",
       "      <td>0.1</td>\n",
       "      <td>-1.72</td>\n",
       "      <td>148.57</td>\n",
       "      <td>3.38</td>\n",
       "      <td>100.55</td>\n",
       "      <td>0.14</td>\n",
       "      <td>-2.30</td>\n",
       "      <td>178.44</td>\n",
       "      <td>3.25</td>\n",
       "      <td>26.12</td>\n",
       "      <td>0.24</td>\n",
       "      <td>LINESTRING Z (1616435.945 5429323.553 0, 16163...</td>\n",
       "      <td>[1969-09-22, 1969-09-22, 1981-01-11, 2006-12-1...</td>\n",
       "      <td>[319.74, 17.16, 48.95, 156.51, 110.25, 53.65, ...</td>\n",
       "    </tr>\n",
       "    <tr>\n",
       "      <th>228612</th>\n",
       "      <td>2.020008e+11</td>\n",
       "      <td>Tasman</td>\n",
       "      <td>1969-09-22</td>\n",
       "      <td>2021-03-18</td>\n",
       "      <td>51.0</td>\n",
       "      <td>7.0</td>\n",
       "      <td>35.21</td>\n",
       "      <td>68.22</td>\n",
       "      <td>0.68</td>\n",
       "      <td>0.1</td>\n",
       "      <td>-3.81</td>\n",
       "      <td>221.33</td>\n",
       "      <td>3.48</td>\n",
       "      <td>83.85</td>\n",
       "      <td>0.49</td>\n",
       "      <td>-4.57</td>\n",
       "      <td>261.53</td>\n",
       "      <td>2.99</td>\n",
       "      <td>18.72</td>\n",
       "      <td>0.65</td>\n",
       "      <td>LINESTRING Z (1616426.083 5429321.896 0, 16163...</td>\n",
       "      <td>[1969-09-22, 1981-01-11, 2006-12-14, 2010-02-1...</td>\n",
       "      <td>[322.08, 30.1, 122.71, 93.24, 35.74, 20.47, 33...</td>\n",
       "    </tr>\n",
       "  </tbody>\n",
       "</table>\n",
       "<p>228613 rows × 23 columns</p>\n",
       "</div>"
      ],
      "text/plain": [
       "            UniqueID    Region  Start_date    End_date  Duration  ShrCount  \\\n",
       "0       1.005226e+11  Taranaki  1970-02-10  2022-01-14      52.0       5.0   \n",
       "1       1.005226e+11  Taranaki  1970-02-10  2022-01-14      52.0       5.0   \n",
       "2       1.005226e+11  Taranaki  1970-02-10  2022-01-14      52.0       5.0   \n",
       "3       1.005227e+11  Taranaki  1970-02-10  2022-01-14      52.0       5.0   \n",
       "4       1.005227e+11  Taranaki  1970-02-10  2022-01-14      52.0       5.0   \n",
       "...              ...       ...         ...         ...       ...       ...   \n",
       "228608  2.020008e+11    Tasman  1969-09-22  2021-03-18      51.0       7.0   \n",
       "228609  2.020008e+11    Tasman  1969-09-22  2021-03-18      51.0       8.0   \n",
       "228610  2.020008e+11    Tasman  1969-09-22  2021-03-18      51.0       7.0   \n",
       "228611  2.020008e+11    Tasman  1969-09-22  2021-03-18      51.0       8.0   \n",
       "228612  2.020008e+11    Tasman  1969-09-22  2021-03-18      51.0       7.0   \n",
       "\n",
       "          NSM     SCE   EPR  EPRunc   LRR     LRI   LCI     LSE   LR2   WLR  \\\n",
       "0       15.55   16.84  0.30     0.2  0.24  254.74  0.37    6.55  0.43  0.28   \n",
       "1       12.63   18.04  0.24     0.2  0.13  256.22  0.41    7.16  0.16  0.11   \n",
       "2       12.84   18.47  0.25     0.2  0.14  255.97  0.41    7.25  0.17  0.13   \n",
       "3       13.68   20.25  0.26     0.2  0.17  256.36  0.45    7.98  0.20  0.20   \n",
       "4       15.01   21.27  0.29     0.2  0.19  256.26  0.47    8.25  0.23  0.21   \n",
       "...       ...     ...   ...     ...   ...     ...   ...     ...   ...   ...   \n",
       "228608  55.75  280.29  1.08     0.1 -1.70  153.41  3.44   97.44  0.17 -1.98   \n",
       "228609  50.29  306.31  0.98     0.1 -1.58  145.42  3.53  104.92  0.11 -2.28   \n",
       "228610  42.42   55.67  0.82     0.1 -3.75  218.78  3.61   86.99  0.47 -4.64   \n",
       "228611  38.94  302.58  0.76     0.1 -1.72  148.57  3.38  100.55  0.14 -2.30   \n",
       "228612  35.21   68.22  0.68     0.1 -3.81  221.33  3.48   83.85  0.49 -4.57   \n",
       "\n",
       "           WLI   WCI    WSE   WR2  \\\n",
       "0       251.99  0.64   2.10  0.26   \n",
       "1       254.58  0.55   1.78  0.07   \n",
       "2       254.12  0.58   1.88  0.08   \n",
       "3       253.60  0.72   2.35  0.12   \n",
       "4       253.57  0.73   2.37  0.13   \n",
       "...        ...   ...    ...   ...   \n",
       "228608  170.29  3.08  23.83  0.25   \n",
       "228609  180.71  3.58  28.75  0.20   \n",
       "228610  265.15  3.25  20.37  0.62   \n",
       "228611  178.44  3.25  26.12  0.24   \n",
       "228612  261.53  2.99  18.72  0.65   \n",
       "\n",
       "                                                 geometry  \\\n",
       "0       LINESTRING Z (1680443.328 5669799.874 0, 16804...   \n",
       "1       LINESTRING Z (1680451.296 5669793.831 0, 16804...   \n",
       "2       LINESTRING Z (1680459.263 5669787.788 0, 16804...   \n",
       "3       LINESTRING Z (1680467.271 5669781.803 0, 16804...   \n",
       "4       LINESTRING Z (1680475.694 5669776.413 0, 16804...   \n",
       "...                                                   ...   \n",
       "228608  LINESTRING Z (1616477.032 5429332.43 0, 161634...   \n",
       "228609  LINESTRING Z (1616467.288 5429330.182 0, 16163...   \n",
       "228610  LINESTRING Z (1616457.544 5429327.935 0, 16163...   \n",
       "228611  LINESTRING Z (1616435.945 5429323.553 0, 16163...   \n",
       "228612  LINESTRING Z (1616426.083 5429321.896 0, 16163...   \n",
       "\n",
       "                                                    Dates  \\\n",
       "0       [1970-02-10, 2000-01-14, 2011-03-11, 2016-10-3...   \n",
       "1       [1970-02-10, 2000-01-14, 2011-03-11, 2016-10-3...   \n",
       "2       [1970-02-10, 2000-01-14, 2011-03-11, 2016-10-3...   \n",
       "3       [1970-02-10, 2000-01-14, 2011-03-11, 2016-10-3...   \n",
       "4       [1970-02-10, 2000-01-14, 2011-03-11, 2016-10-3...   \n",
       "...                                                   ...   \n",
       "228608  [1969-09-22, 1969-09-22, 1981-01-11, 2010-02-1...   \n",
       "228609  [1969-09-22, 1969-09-22, 1981-01-11, 2006-12-1...   \n",
       "228610  [1969-09-22, 1981-01-11, 2006-12-14, 2010-02-1...   \n",
       "228611  [1969-09-22, 1969-09-22, 1981-01-11, 2006-12-1...   \n",
       "228612  [1969-09-22, 1981-01-11, 2006-12-14, 2010-02-1...   \n",
       "\n",
       "                                                Distances  \n",
       "0                  [255.9, 263.3, 254.61, 268.75, 271.45]  \n",
       "1                 [257.08, 263.2, 251.66, 261.86, 269.71]  \n",
       "2                 [257.06, 262.65, 251.43, 262.53, 269.9]  \n",
       "3                [258.21, 262.32, 251.63, 266.53, 271.88]  \n",
       "4                 [258.36, 262.33, 252.1, 267.13, 273.36]  \n",
       "...                                                   ...  \n",
       "228608  [314.21, 33.91, 68.63, 135.44, 78.3, 51.05, 58...  \n",
       "228609  [316.12, 9.81, 46.87, 178.64, 116.03, 52.22, 3...  \n",
       "228610   [318.95, 24.48, 135.29, 95.8, 31.5, 16.5, 30.71]  \n",
       "228611  [319.74, 17.16, 48.95, 156.51, 110.25, 53.65, ...  \n",
       "228612  [322.08, 30.1, 122.71, 93.24, 35.74, 20.47, 33...  \n",
       "\n",
       "[228613 rows x 23 columns]"
      ]
     },
     "execution_count": 42,
     "metadata": {},
     "output_type": "execute_result"
    }
   ],
   "source": [
    "def process_row(Unique_ID):\n",
    "    transect = transects.geometry[Unique_ID]\n",
    "    # This function reproduces the statistics described in https://pubs.usgs.gov/of/2021/1091/ofr20211091.pdf\n",
    "    shorelines[\"intersect_point\"] = shorelines.intersection(transect)\n",
    "    df = shorelines[~shorelines.intersect_point.is_empty].sort_values(\"Date\")\n",
    "    if len(df) < 3:\n",
    "        print(f\"{Unique_ID} has only {len(df)} shorelines\")\n",
    "        return {}\n",
    "    df.Date = pd.to_datetime(df.Date)\n",
    "    df[\"YearsSinceBase\"] = (df.Date - df.Date.min()).dt.days / 365.25\n",
    "    transect_origin = shapely.get_point(transect, -1)\n",
    "    df[\"Distance\"] = df.intersect_point.distance(transect_origin)\n",
    "    LR = sm.OLS(df.Distance, sm.add_constant(df.YearsSinceBase)).fit()\n",
    "    low, high = LR.conf_int(alpha=.1).loc[\"YearsSinceBase\"]\n",
    "    LCI = (high - low) / 2\n",
    "    WLR = sm.WLS(df.Distance, sm.add_constant(df.YearsSinceBase), weights=1 / df.Total_UNCY ** 2).fit()\n",
    "    low, high = WLR.conf_int(alpha=.1).loc[\"YearsSinceBase\"]\n",
    "    WCI = (high - low) / 2\n",
    "    duration = (df.Date.max() - df.Date.min()).days / 365.25\n",
    "    assert duration > 0, f\"{Unique_ID} has a duration of {duration}\"\n",
    "    NSM = df.intersect_point.iloc[0].distance(df.intersect_point.iloc[-1])\n",
    "    return {\n",
    "        \"UniqueID\": Unique_ID,\n",
    "        \"Region\": df.Region.value_counts().idxmax(),\n",
    "        \"Start_date\": str(df.Date.min().date()),\n",
    "        \"End_date\": str(df.Date.max().date()),\n",
    "        \"Duration\": round(duration),\n",
    "        \"ShrCount\": len(df),\n",
    "        \"NSM\": round(NSM, 2),\n",
    "        \"SCE\": df.intersect_point.apply(lambda p: df.intersect_point.distance(p).max()).max().round(2),\n",
    "        \"EPR\": round(NSM / duration, 2),\n",
    "        \"EPRunc\": round(np.sqrt(df.Total_UNCY.iloc[0] ** 2 + df.Total_UNCY.iloc[-1] ** 2) / duration, 2),\n",
    "        \"LRR\": LR.params.YearsSinceBase.round(2),\n",
    "        \"LRI\": LR.params.const.round(2),\n",
    "        \"LCI\": round(LCI, 2),\n",
    "        \"LSE\": np.sqrt(LR.mse_resid).round(2),\n",
    "        \"LR2\": LR.rsquared.round(2),\n",
    "        \"WLR\": WLR.params.YearsSinceBase.round(2),\n",
    "        \"WLI\": WLR.params.const.round(2),\n",
    "        \"WCI\": round(WCI, 2),\n",
    "        \"WSE\": np.sqrt(WLR.mse_resid).round(2),\n",
    "        \"WR2\": WLR.rsquared.round(2),\n",
    "        \"geometry\": transect,\n",
    "        \"Dates\": df.Date.dt.strftime(\"%Y-%m-%d\").tolist(),\n",
    "        \"Distances\": df.Distance.round(2).tolist(),\n",
    "    }\n",
    "\n",
    "results = process_map(process_row, transects.index, chunksize=100, max_workers=64)\n",
    "rates = gpd.GeoDataFrame(results, crs=2193)\n",
    "rates"
   ]
  },
  {
   "cell_type": "code",
   "execution_count": 43,
   "metadata": {},
   "outputs": [
    {
     "data": {
      "text/html": [
       "<pre>✔️ 441 ms (2024-09-04T10:20:14/2024-09-04T10:20:15)</pre>"
      ],
      "text/plain": [
       "<IPython.core.display.HTML object>"
      ]
     },
     "metadata": {},
     "output_type": "display_data"
    },
    {
     "data": {
      "text/html": [
       "<div>\n",
       "<style scoped>\n",
       "    .dataframe tbody tr th:only-of-type {\n",
       "        vertical-align: middle;\n",
       "    }\n",
       "\n",
       "    .dataframe tbody tr th {\n",
       "        vertical-align: top;\n",
       "    }\n",
       "\n",
       "    .dataframe thead th {\n",
       "        text-align: right;\n",
       "    }\n",
       "</style>\n",
       "<table border=\"1\" class=\"dataframe\">\n",
       "  <thead>\n",
       "    <tr style=\"text-align: right;\">\n",
       "      <th></th>\n",
       "      <th>Unique_ID</th>\n",
       "      <th>geometry</th>\n",
       "    </tr>\n",
       "  </thead>\n",
       "  <tbody>\n",
       "    <tr>\n",
       "      <th>0</th>\n",
       "      <td>2.010001e+11</td>\n",
       "      <td>POINT Z (1602827.257 5444493.261 0)</td>\n",
       "    </tr>\n",
       "    <tr>\n",
       "      <th>1</th>\n",
       "      <td>2.010001e+11</td>\n",
       "      <td>POINT Z (1602821.392 5444501.389 0)</td>\n",
       "    </tr>\n",
       "    <tr>\n",
       "      <th>2</th>\n",
       "      <td>2.010001e+11</td>\n",
       "      <td>POINT Z (1602815.442 5444509.464 0)</td>\n",
       "    </tr>\n",
       "    <tr>\n",
       "      <th>3</th>\n",
       "      <td>2.010001e+11</td>\n",
       "      <td>POINT Z (1602809.485 5444517.535 0)</td>\n",
       "    </tr>\n",
       "    <tr>\n",
       "      <th>4</th>\n",
       "      <td>2.010001e+11</td>\n",
       "      <td>POINT Z (1602803.528 5444525.605 0)</td>\n",
       "    </tr>\n",
       "    <tr>\n",
       "      <th>...</th>\n",
       "      <td>...</td>\n",
       "      <td>...</td>\n",
       "    </tr>\n",
       "    <tr>\n",
       "      <th>571</th>\n",
       "      <td>1.010019e+11</td>\n",
       "      <td>POINT Z (1784449.725 5926935.288 0)</td>\n",
       "    </tr>\n",
       "    <tr>\n",
       "      <th>572</th>\n",
       "      <td>1.010019e+11</td>\n",
       "      <td>POINT Z (1784439.931 5926939.809 0)</td>\n",
       "    </tr>\n",
       "    <tr>\n",
       "      <th>573</th>\n",
       "      <td>1.010019e+11</td>\n",
       "      <td>POINT Z (1784431.172 5926944.695 0)</td>\n",
       "    </tr>\n",
       "    <tr>\n",
       "      <th>574</th>\n",
       "      <td>1.010019e+11</td>\n",
       "      <td>POINT Z (1784423.016 5926950.491 0)</td>\n",
       "    </tr>\n",
       "    <tr>\n",
       "      <th>575</th>\n",
       "      <td>1.010019e+11</td>\n",
       "      <td>POINT Z (1784415.426 5926957.131 0)</td>\n",
       "    </tr>\n",
       "  </tbody>\n",
       "</table>\n",
       "<p>228613 rows × 2 columns</p>\n",
       "</div>"
      ],
      "text/plain": [
       "        Unique_ID                             geometry\n",
       "0    2.010001e+11  POINT Z (1602827.257 5444493.261 0)\n",
       "1    2.010001e+11  POINT Z (1602821.392 5444501.389 0)\n",
       "2    2.010001e+11  POINT Z (1602815.442 5444509.464 0)\n",
       "3    2.010001e+11  POINT Z (1602809.485 5444517.535 0)\n",
       "4    2.010001e+11  POINT Z (1602803.528 5444525.605 0)\n",
       "..            ...                                  ...\n",
       "571  1.010019e+11  POINT Z (1784449.725 5926935.288 0)\n",
       "572  1.010019e+11  POINT Z (1784439.931 5926939.809 0)\n",
       "573  1.010019e+11  POINT Z (1784431.172 5926944.695 0)\n",
       "574  1.010019e+11  POINT Z (1784423.016 5926950.491 0)\n",
       "575  1.010019e+11  POINT Z (1784415.426 5926957.131 0)\n",
       "\n",
       "[228613 rows x 2 columns]"
      ]
     },
     "execution_count": 43,
     "metadata": {},
     "output_type": "execute_result"
    }
   ],
   "source": [
    "points = pd.concat(gpd.read_file(f) for f in glob(\"Data for testing/Unique_ID_points/*.shp\"))\n",
    "points"
   ]
  },
  {
   "cell_type": "code",
   "execution_count": 44,
   "metadata": {},
   "outputs": [
    {
     "data": {
      "text/html": [
       "<pre>✔️ 1.17 s (2024-09-04T10:20:17/2024-09-04T10:20:18)</pre>"
      ],
      "text/plain": [
       "<IPython.core.display.HTML object>"
      ]
     },
     "metadata": {},
     "output_type": "display_data"
    },
    {
     "data": {
      "text/html": [
       "<div>\n",
       "<style scoped>\n",
       "    .dataframe tbody tr th:only-of-type {\n",
       "        vertical-align: middle;\n",
       "    }\n",
       "\n",
       "    .dataframe tbody tr th {\n",
       "        vertical-align: top;\n",
       "    }\n",
       "\n",
       "    .dataframe thead th {\n",
       "        text-align: right;\n",
       "    }\n",
       "</style>\n",
       "<table border=\"1\" class=\"dataframe\">\n",
       "  <thead>\n",
       "    <tr style=\"text-align: right;\">\n",
       "      <th></th>\n",
       "      <th>UniqueID</th>\n",
       "      <th>Region</th>\n",
       "      <th>Start_date</th>\n",
       "      <th>End_date</th>\n",
       "      <th>Duration</th>\n",
       "      <th>ShrCount</th>\n",
       "      <th>NSM</th>\n",
       "      <th>SCE</th>\n",
       "      <th>EPR</th>\n",
       "      <th>EPRunc</th>\n",
       "      <th>LRR</th>\n",
       "      <th>LRI</th>\n",
       "      <th>LCI</th>\n",
       "      <th>LSE</th>\n",
       "      <th>LR2</th>\n",
       "      <th>WLR</th>\n",
       "      <th>WLI</th>\n",
       "      <th>WCI</th>\n",
       "      <th>WSE</th>\n",
       "      <th>WR2</th>\n",
       "      <th>Dates</th>\n",
       "      <th>Distances</th>\n",
       "      <th>geometry</th>\n",
       "      <th>lat</th>\n",
       "      <th>lon</th>\n",
       "    </tr>\n",
       "  </thead>\n",
       "  <tbody>\n",
       "    <tr>\n",
       "      <th>0</th>\n",
       "      <td>1.005226e+11</td>\n",
       "      <td>Taranaki</td>\n",
       "      <td>1970-02-10</td>\n",
       "      <td>2022-01-14</td>\n",
       "      <td>52.0</td>\n",
       "      <td>5.0</td>\n",
       "      <td>15.55</td>\n",
       "      <td>16.84</td>\n",
       "      <td>0.30</td>\n",
       "      <td>0.2</td>\n",
       "      <td>0.24</td>\n",
       "      <td>254.74</td>\n",
       "      <td>0.37</td>\n",
       "      <td>6.55</td>\n",
       "      <td>0.43</td>\n",
       "      <td>0.28</td>\n",
       "      <td>251.99</td>\n",
       "      <td>0.64</td>\n",
       "      <td>2.10</td>\n",
       "      <td>0.26</td>\n",
       "      <td>[1970-02-10, 2000-01-14, 2011-03-11, 2016-10-3...</td>\n",
       "      <td>[255.9, 263.3, 254.61, 268.75, 271.45]</td>\n",
       "      <td>POINT Z (1680425.889 5669776.879 0)</td>\n",
       "      <td>-39.117458</td>\n",
       "      <td>173.930326</td>\n",
       "    </tr>\n",
       "    <tr>\n",
       "      <th>1</th>\n",
       "      <td>1.005226e+11</td>\n",
       "      <td>Taranaki</td>\n",
       "      <td>1970-02-10</td>\n",
       "      <td>2022-01-14</td>\n",
       "      <td>52.0</td>\n",
       "      <td>5.0</td>\n",
       "      <td>12.63</td>\n",
       "      <td>18.04</td>\n",
       "      <td>0.24</td>\n",
       "      <td>0.2</td>\n",
       "      <td>0.13</td>\n",
       "      <td>256.22</td>\n",
       "      <td>0.41</td>\n",
       "      <td>7.16</td>\n",
       "      <td>0.16</td>\n",
       "      <td>0.11</td>\n",
       "      <td>254.58</td>\n",
       "      <td>0.55</td>\n",
       "      <td>1.78</td>\n",
       "      <td>0.07</td>\n",
       "      <td>[1970-02-10, 2000-01-14, 2011-03-11, 2016-10-3...</td>\n",
       "      <td>[257.08, 263.2, 251.66, 261.86, 269.71]</td>\n",
       "      <td>POINT Z (1680434.051 5669771.092 0)</td>\n",
       "      <td>-39.117509</td>\n",
       "      <td>173.930421</td>\n",
       "    </tr>\n",
       "    <tr>\n",
       "      <th>2</th>\n",
       "      <td>1.005226e+11</td>\n",
       "      <td>Taranaki</td>\n",
       "      <td>1970-02-10</td>\n",
       "      <td>2022-01-14</td>\n",
       "      <td>52.0</td>\n",
       "      <td>5.0</td>\n",
       "      <td>12.84</td>\n",
       "      <td>18.47</td>\n",
       "      <td>0.25</td>\n",
       "      <td>0.2</td>\n",
       "      <td>0.14</td>\n",
       "      <td>255.97</td>\n",
       "      <td>0.41</td>\n",
       "      <td>7.25</td>\n",
       "      <td>0.17</td>\n",
       "      <td>0.13</td>\n",
       "      <td>254.12</td>\n",
       "      <td>0.58</td>\n",
       "      <td>1.88</td>\n",
       "      <td>0.08</td>\n",
       "      <td>[1970-02-10, 2000-01-14, 2011-03-11, 2016-10-3...</td>\n",
       "      <td>[257.06, 262.65, 251.43, 262.53, 269.9]</td>\n",
       "      <td>POINT Z (1680442.258 5669765.365 0)</td>\n",
       "      <td>-39.117560</td>\n",
       "      <td>173.930516</td>\n",
       "    </tr>\n",
       "    <tr>\n",
       "      <th>3</th>\n",
       "      <td>1.005227e+11</td>\n",
       "      <td>Taranaki</td>\n",
       "      <td>1970-02-10</td>\n",
       "      <td>2022-01-14</td>\n",
       "      <td>52.0</td>\n",
       "      <td>5.0</td>\n",
       "      <td>13.68</td>\n",
       "      <td>20.25</td>\n",
       "      <td>0.26</td>\n",
       "      <td>0.2</td>\n",
       "      <td>0.17</td>\n",
       "      <td>256.36</td>\n",
       "      <td>0.45</td>\n",
       "      <td>7.98</td>\n",
       "      <td>0.20</td>\n",
       "      <td>0.20</td>\n",
       "      <td>253.60</td>\n",
       "      <td>0.72</td>\n",
       "      <td>2.35</td>\n",
       "      <td>0.12</td>\n",
       "      <td>[1970-02-10, 2000-01-14, 2011-03-11, 2016-10-3...</td>\n",
       "      <td>[258.21, 262.32, 251.63, 266.53, 271.88]</td>\n",
       "      <td>POINT Z (1680452.426 5669758.607 0)</td>\n",
       "      <td>-39.117620</td>\n",
       "      <td>173.930635</td>\n",
       "    </tr>\n",
       "    <tr>\n",
       "      <th>4</th>\n",
       "      <td>1.005227e+11</td>\n",
       "      <td>Taranaki</td>\n",
       "      <td>1970-02-10</td>\n",
       "      <td>2022-01-14</td>\n",
       "      <td>52.0</td>\n",
       "      <td>5.0</td>\n",
       "      <td>15.01</td>\n",
       "      <td>21.27</td>\n",
       "      <td>0.29</td>\n",
       "      <td>0.2</td>\n",
       "      <td>0.19</td>\n",
       "      <td>256.26</td>\n",
       "      <td>0.47</td>\n",
       "      <td>8.25</td>\n",
       "      <td>0.23</td>\n",
       "      <td>0.21</td>\n",
       "      <td>253.57</td>\n",
       "      <td>0.73</td>\n",
       "      <td>2.37</td>\n",
       "      <td>0.13</td>\n",
       "      <td>[1970-02-10, 2000-01-14, 2011-03-11, 2016-10-3...</td>\n",
       "      <td>[258.36, 262.33, 252.1, 267.13, 273.36]</td>\n",
       "      <td>POINT Z (1680460.929 5669753.342 0)</td>\n",
       "      <td>-39.117667</td>\n",
       "      <td>173.930734</td>\n",
       "    </tr>\n",
       "    <tr>\n",
       "      <th>...</th>\n",
       "      <td>...</td>\n",
       "      <td>...</td>\n",
       "      <td>...</td>\n",
       "      <td>...</td>\n",
       "      <td>...</td>\n",
       "      <td>...</td>\n",
       "      <td>...</td>\n",
       "      <td>...</td>\n",
       "      <td>...</td>\n",
       "      <td>...</td>\n",
       "      <td>...</td>\n",
       "      <td>...</td>\n",
       "      <td>...</td>\n",
       "      <td>...</td>\n",
       "      <td>...</td>\n",
       "      <td>...</td>\n",
       "      <td>...</td>\n",
       "      <td>...</td>\n",
       "      <td>...</td>\n",
       "      <td>...</td>\n",
       "      <td>...</td>\n",
       "      <td>...</td>\n",
       "      <td>...</td>\n",
       "      <td>...</td>\n",
       "      <td>...</td>\n",
       "    </tr>\n",
       "    <tr>\n",
       "      <th>228533</th>\n",
       "      <td>2.020008e+11</td>\n",
       "      <td>Tasman</td>\n",
       "      <td>1969-09-22</td>\n",
       "      <td>2021-03-18</td>\n",
       "      <td>51.0</td>\n",
       "      <td>7.0</td>\n",
       "      <td>55.75</td>\n",
       "      <td>280.29</td>\n",
       "      <td>1.08</td>\n",
       "      <td>0.1</td>\n",
       "      <td>-1.70</td>\n",
       "      <td>153.41</td>\n",
       "      <td>3.44</td>\n",
       "      <td>97.44</td>\n",
       "      <td>0.17</td>\n",
       "      <td>-1.98</td>\n",
       "      <td>170.29</td>\n",
       "      <td>3.08</td>\n",
       "      <td>23.83</td>\n",
       "      <td>0.25</td>\n",
       "      <td>[1969-09-22, 1969-09-22, 1981-01-11, 2010-02-1...</td>\n",
       "      <td>[314.21, 33.91, 68.63, 135.44, 78.3, 51.05, 58...</td>\n",
       "      <td>POINT Z (1616403.774 5429650.065 0)</td>\n",
       "      <td>-41.284422</td>\n",
       "      <td>173.195892</td>\n",
       "    </tr>\n",
       "    <tr>\n",
       "      <th>228534</th>\n",
       "      <td>2.020008e+11</td>\n",
       "      <td>Tasman</td>\n",
       "      <td>1969-09-22</td>\n",
       "      <td>2021-03-18</td>\n",
       "      <td>51.0</td>\n",
       "      <td>8.0</td>\n",
       "      <td>50.29</td>\n",
       "      <td>306.31</td>\n",
       "      <td>0.98</td>\n",
       "      <td>0.1</td>\n",
       "      <td>-1.58</td>\n",
       "      <td>145.42</td>\n",
       "      <td>3.53</td>\n",
       "      <td>104.92</td>\n",
       "      <td>0.11</td>\n",
       "      <td>-2.28</td>\n",
       "      <td>180.71</td>\n",
       "      <td>3.58</td>\n",
       "      <td>28.75</td>\n",
       "      <td>0.20</td>\n",
       "      <td>[1969-09-22, 1969-09-22, 1981-01-11, 2006-12-1...</td>\n",
       "      <td>[316.12, 9.81, 46.87, 178.64, 116.03, 52.22, 3...</td>\n",
       "      <td>POINT Z (1616396.401 5429637.534 0)</td>\n",
       "      <td>-41.284535</td>\n",
       "      <td>173.195804</td>\n",
       "    </tr>\n",
       "    <tr>\n",
       "      <th>228535</th>\n",
       "      <td>2.020008e+11</td>\n",
       "      <td>Tasman</td>\n",
       "      <td>1969-09-22</td>\n",
       "      <td>2021-03-18</td>\n",
       "      <td>51.0</td>\n",
       "      <td>7.0</td>\n",
       "      <td>42.42</td>\n",
       "      <td>55.67</td>\n",
       "      <td>0.82</td>\n",
       "      <td>0.1</td>\n",
       "      <td>-3.75</td>\n",
       "      <td>218.78</td>\n",
       "      <td>3.61</td>\n",
       "      <td>86.99</td>\n",
       "      <td>0.47</td>\n",
       "      <td>-4.64</td>\n",
       "      <td>265.15</td>\n",
       "      <td>3.25</td>\n",
       "      <td>20.37</td>\n",
       "      <td>0.62</td>\n",
       "      <td>[1969-09-22, 1981-01-11, 2006-12-14, 2010-02-1...</td>\n",
       "      <td>[318.95, 24.48, 135.29, 95.8, 31.5, 16.5, 30.71]</td>\n",
       "      <td>POINT Z (1616388.254 5429628.361 0)</td>\n",
       "      <td>-41.284618</td>\n",
       "      <td>173.195707</td>\n",
       "    </tr>\n",
       "    <tr>\n",
       "      <th>228536</th>\n",
       "      <td>2.020008e+11</td>\n",
       "      <td>Tasman</td>\n",
       "      <td>1969-09-22</td>\n",
       "      <td>2021-03-18</td>\n",
       "      <td>51.0</td>\n",
       "      <td>8.0</td>\n",
       "      <td>38.94</td>\n",
       "      <td>302.58</td>\n",
       "      <td>0.76</td>\n",
       "      <td>0.1</td>\n",
       "      <td>-1.72</td>\n",
       "      <td>148.57</td>\n",
       "      <td>3.38</td>\n",
       "      <td>100.55</td>\n",
       "      <td>0.14</td>\n",
       "      <td>-2.30</td>\n",
       "      <td>178.44</td>\n",
       "      <td>3.25</td>\n",
       "      <td>26.12</td>\n",
       "      <td>0.24</td>\n",
       "      <td>[1969-09-22, 1969-09-22, 1981-01-11, 2006-12-1...</td>\n",
       "      <td>[319.74, 17.16, 48.95, 156.51, 110.25, 53.65, ...</td>\n",
       "      <td>POINT Z (1616385.177 5429625.739 0)</td>\n",
       "      <td>-41.284642</td>\n",
       "      <td>173.195670</td>\n",
       "    </tr>\n",
       "    <tr>\n",
       "      <th>228537</th>\n",
       "      <td>2.020008e+11</td>\n",
       "      <td>Tasman</td>\n",
       "      <td>1969-09-22</td>\n",
       "      <td>2021-03-18</td>\n",
       "      <td>51.0</td>\n",
       "      <td>7.0</td>\n",
       "      <td>35.21</td>\n",
       "      <td>68.22</td>\n",
       "      <td>0.68</td>\n",
       "      <td>0.1</td>\n",
       "      <td>-3.81</td>\n",
       "      <td>221.33</td>\n",
       "      <td>3.48</td>\n",
       "      <td>83.85</td>\n",
       "      <td>0.49</td>\n",
       "      <td>-4.57</td>\n",
       "      <td>261.53</td>\n",
       "      <td>2.99</td>\n",
       "      <td>18.72</td>\n",
       "      <td>0.65</td>\n",
       "      <td>[1969-09-22, 1981-01-11, 2006-12-14, 2010-02-1...</td>\n",
       "      <td>[322.08, 30.1, 122.71, 93.24, 35.74, 20.47, 33...</td>\n",
       "      <td>POINT Z (1616376.184 5429618.914 0)</td>\n",
       "      <td>-41.284704</td>\n",
       "      <td>173.195563</td>\n",
       "    </tr>\n",
       "  </tbody>\n",
       "</table>\n",
       "<p>228538 rows × 25 columns</p>\n",
       "</div>"
      ],
      "text/plain": [
       "            UniqueID    Region  Start_date    End_date  Duration  ShrCount  \\\n",
       "0       1.005226e+11  Taranaki  1970-02-10  2022-01-14      52.0       5.0   \n",
       "1       1.005226e+11  Taranaki  1970-02-10  2022-01-14      52.0       5.0   \n",
       "2       1.005226e+11  Taranaki  1970-02-10  2022-01-14      52.0       5.0   \n",
       "3       1.005227e+11  Taranaki  1970-02-10  2022-01-14      52.0       5.0   \n",
       "4       1.005227e+11  Taranaki  1970-02-10  2022-01-14      52.0       5.0   \n",
       "...              ...       ...         ...         ...       ...       ...   \n",
       "228533  2.020008e+11    Tasman  1969-09-22  2021-03-18      51.0       7.0   \n",
       "228534  2.020008e+11    Tasman  1969-09-22  2021-03-18      51.0       8.0   \n",
       "228535  2.020008e+11    Tasman  1969-09-22  2021-03-18      51.0       7.0   \n",
       "228536  2.020008e+11    Tasman  1969-09-22  2021-03-18      51.0       8.0   \n",
       "228537  2.020008e+11    Tasman  1969-09-22  2021-03-18      51.0       7.0   \n",
       "\n",
       "          NSM     SCE   EPR  EPRunc   LRR     LRI   LCI     LSE   LR2   WLR  \\\n",
       "0       15.55   16.84  0.30     0.2  0.24  254.74  0.37    6.55  0.43  0.28   \n",
       "1       12.63   18.04  0.24     0.2  0.13  256.22  0.41    7.16  0.16  0.11   \n",
       "2       12.84   18.47  0.25     0.2  0.14  255.97  0.41    7.25  0.17  0.13   \n",
       "3       13.68   20.25  0.26     0.2  0.17  256.36  0.45    7.98  0.20  0.20   \n",
       "4       15.01   21.27  0.29     0.2  0.19  256.26  0.47    8.25  0.23  0.21   \n",
       "...       ...     ...   ...     ...   ...     ...   ...     ...   ...   ...   \n",
       "228533  55.75  280.29  1.08     0.1 -1.70  153.41  3.44   97.44  0.17 -1.98   \n",
       "228534  50.29  306.31  0.98     0.1 -1.58  145.42  3.53  104.92  0.11 -2.28   \n",
       "228535  42.42   55.67  0.82     0.1 -3.75  218.78  3.61   86.99  0.47 -4.64   \n",
       "228536  38.94  302.58  0.76     0.1 -1.72  148.57  3.38  100.55  0.14 -2.30   \n",
       "228537  35.21   68.22  0.68     0.1 -3.81  221.33  3.48   83.85  0.49 -4.57   \n",
       "\n",
       "           WLI   WCI    WSE   WR2  \\\n",
       "0       251.99  0.64   2.10  0.26   \n",
       "1       254.58  0.55   1.78  0.07   \n",
       "2       254.12  0.58   1.88  0.08   \n",
       "3       253.60  0.72   2.35  0.12   \n",
       "4       253.57  0.73   2.37  0.13   \n",
       "...        ...   ...    ...   ...   \n",
       "228533  170.29  3.08  23.83  0.25   \n",
       "228534  180.71  3.58  28.75  0.20   \n",
       "228535  265.15  3.25  20.37  0.62   \n",
       "228536  178.44  3.25  26.12  0.24   \n",
       "228537  261.53  2.99  18.72  0.65   \n",
       "\n",
       "                                                    Dates  \\\n",
       "0       [1970-02-10, 2000-01-14, 2011-03-11, 2016-10-3...   \n",
       "1       [1970-02-10, 2000-01-14, 2011-03-11, 2016-10-3...   \n",
       "2       [1970-02-10, 2000-01-14, 2011-03-11, 2016-10-3...   \n",
       "3       [1970-02-10, 2000-01-14, 2011-03-11, 2016-10-3...   \n",
       "4       [1970-02-10, 2000-01-14, 2011-03-11, 2016-10-3...   \n",
       "...                                                   ...   \n",
       "228533  [1969-09-22, 1969-09-22, 1981-01-11, 2010-02-1...   \n",
       "228534  [1969-09-22, 1969-09-22, 1981-01-11, 2006-12-1...   \n",
       "228535  [1969-09-22, 1981-01-11, 2006-12-14, 2010-02-1...   \n",
       "228536  [1969-09-22, 1969-09-22, 1981-01-11, 2006-12-1...   \n",
       "228537  [1969-09-22, 1981-01-11, 2006-12-14, 2010-02-1...   \n",
       "\n",
       "                                                Distances  \\\n",
       "0                  [255.9, 263.3, 254.61, 268.75, 271.45]   \n",
       "1                 [257.08, 263.2, 251.66, 261.86, 269.71]   \n",
       "2                 [257.06, 262.65, 251.43, 262.53, 269.9]   \n",
       "3                [258.21, 262.32, 251.63, 266.53, 271.88]   \n",
       "4                 [258.36, 262.33, 252.1, 267.13, 273.36]   \n",
       "...                                                   ...   \n",
       "228533  [314.21, 33.91, 68.63, 135.44, 78.3, 51.05, 58...   \n",
       "228534  [316.12, 9.81, 46.87, 178.64, 116.03, 52.22, 3...   \n",
       "228535   [318.95, 24.48, 135.29, 95.8, 31.5, 16.5, 30.71]   \n",
       "228536  [319.74, 17.16, 48.95, 156.51, 110.25, 53.65, ...   \n",
       "228537  [322.08, 30.1, 122.71, 93.24, 35.74, 20.47, 33...   \n",
       "\n",
       "                                   geometry        lat         lon  \n",
       "0       POINT Z (1680425.889 5669776.879 0) -39.117458  173.930326  \n",
       "1       POINT Z (1680434.051 5669771.092 0) -39.117509  173.930421  \n",
       "2       POINT Z (1680442.258 5669765.365 0) -39.117560  173.930516  \n",
       "3       POINT Z (1680452.426 5669758.607 0) -39.117620  173.930635  \n",
       "4       POINT Z (1680460.929 5669753.342 0) -39.117667  173.930734  \n",
       "...                                     ...        ...         ...  \n",
       "228533  POINT Z (1616403.774 5429650.065 0) -41.284422  173.195892  \n",
       "228534  POINT Z (1616396.401 5429637.534 0) -41.284535  173.195804  \n",
       "228535  POINT Z (1616388.254 5429628.361 0) -41.284618  173.195707  \n",
       "228536  POINT Z (1616385.177 5429625.739 0) -41.284642  173.195670  \n",
       "228537  POINT Z (1616376.184 5429618.914 0) -41.284704  173.195563  \n",
       "\n",
       "[228538 rows x 25 columns]"
      ]
     },
     "execution_count": 44,
     "metadata": {},
     "output_type": "execute_result"
    }
   ],
   "source": [
    "rates_with_timeseries = gpd.GeoDataFrame(rates.drop(columns=\"geometry\").merge(points, left_on=\"UniqueID\", right_on=\"Unique_ID\").drop(columns=\"Unique_ID\"))\n",
    "rates_with_timeseries[\"lat\"] = rates_with_timeseries.geometry.to_crs(4326).y\n",
    "rates_with_timeseries[\"lon\"] = rates_with_timeseries.geometry.to_crs(4326).x\n",
    "rates_with_timeseries.drop(columns=\"geometry\").to_parquet(\"rates_with_timeseries.parquet\")\n",
    "rates_with_timeseries"
   ]
  },
  {
   "cell_type": "code",
   "execution_count": 55,
   "metadata": {},
   "outputs": [
    {
     "data": {
      "text/html": [
       "<pre>✔️ 1 min 48 s (2024-09-04T11:05:36/2024-09-04T11:07:25)</pre>"
      ],
      "text/plain": [
       "<IPython.core.display.HTML object>"
      ]
     },
     "metadata": {},
     "output_type": "display_data"
    }
   ],
   "source": [
    "rates_with_timeseries.to_excel(\"rates_with_timeseries.xlsx\", index=False)"
   ]
  },
  {
   "cell_type": "code",
   "execution_count": 51,
   "metadata": {},
   "outputs": [
    {
     "data": {
      "text/html": [
       "<pre>✔️ 7.49 ms (2024-09-04T11:01:02/2024-09-04T11:01:02)</pre>"
      ],
      "text/plain": [
       "<IPython.core.display.HTML object>"
      ]
     },
     "metadata": {},
     "output_type": "display_data"
    },
    {
     "data": {
      "text/plain": [
       "UniqueID        object\n",
       "Region          object\n",
       "Start_date      object\n",
       "End_date        object\n",
       "Duration       float64\n",
       "ShrCount       float64\n",
       "NSM            float64\n",
       "SCE            float64\n",
       "EPR            float64\n",
       "EPRunc         float64\n",
       "LRR            float64\n",
       "LRI            float64\n",
       "LCI            float64\n",
       "LSE            float64\n",
       "LR2            float64\n",
       "WLR            float64\n",
       "WLI            float64\n",
       "WCI            float64\n",
       "WSE            float64\n",
       "WR2            float64\n",
       "Dates           object\n",
       "Distances       object\n",
       "geometry      geometry\n",
       "lat            float64\n",
       "lon            float64\n",
       "dtype: object"
      ]
     },
     "execution_count": 51,
     "metadata": {},
     "output_type": "execute_result"
    }
   ],
   "source": [
    "rates_with_timeseries.UniqueID = rates_with_timeseries.UniqueID.astype(str)\n",
    "rates_with_timeseries.dtypes"
   ]
  },
  {
   "cell_type": "code",
   "execution_count": 53,
   "metadata": {},
   "outputs": [
    {
     "data": {
      "text/html": [
       "<pre>✔️ 12.4 s (2024-09-04T11:01:09/2024-09-04T11:01:21)</pre>"
      ],
      "text/plain": [
       "<IPython.core.display.HTML object>"
      ]
     },
     "metadata": {},
     "output_type": "display_data"
    },
    {
     "name": "stderr",
     "output_type": "stream",
     "text": [
      "/home/nyou045/retrolens/venv/lib/python3.10/site-packages/pyogrio/raw.py:709: RuntimeWarning: Value '['1940-04-14', '1949-03-29', '1960-08-19', '1969-04-30', '1980-10-24', '1987-11-17', '2002-04-26', '2009-12-24', '2010-04-07', '2010-11-07', '2011-09-23', '2014-11-29', '2015-03-01', '2016-04-05', '2017-10-23', '2019-03-22', '2020-05-18', '2021-03-21', '2024-04-30']' of field Dates has been truncated to 254 characters.  This warning will not be emitted any more for that layer.\n",
      "  ogr_write(\n"
     ]
    }
   ],
   "source": [
    "rates_with_timeseries.to_file(\"rates_with_timeseries.shp\")"
   ]
  }
 ],
 "metadata": {
  "kernelspec": {
   "display_name": "Python 3",
   "language": "python",
   "name": "python3"
  },
  "language_info": {
   "codemirror_mode": {
    "name": "ipython",
    "version": 3
   },
   "file_extension": ".py",
   "mimetype": "text/x-python",
   "name": "python",
   "nbconvert_exporter": "python",
   "pygments_lexer": "ipython3",
   "version": "3.10.9"
  }
 },
 "nbformat": 4,
 "nbformat_minor": 2
}
